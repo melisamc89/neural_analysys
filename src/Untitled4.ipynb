{
 "cells": [
  {
   "cell_type": "markdown",
   "id": "40a139d7-7f12-4e8e-9905-38ccc6c63ac5",
   "metadata": {},
   "source": [
    "### Combining programs properly"
   ]
  },
  {
   "cell_type": "code",
   "execution_count": 1,
   "id": "776f4ca5-ab23-4303-87ca-ff49090c7311",
   "metadata": {},
   "outputs": [],
   "source": [
    "#import useful libraries\n",
    "import os\n",
    "import numpy as np\n",
    "import matplotlib.pyplot as plt\n",
    "from mpl_toolkits.mplot3d import Axes3D  # noqa: F401 unused import\n",
    "import pickle\n",
    "import configuration\n",
    "import general_statistics as stats\n",
    "import figures as figs\n",
    "import matplotlib.cm as cm\n",
    "from matplotlib import colors\n",
    "from scipy import signal\n",
    "from scipy import stats as sstats\n",
    "from sklearn.decomposition import PCA\n",
    "from sklearn.manifold import TSNE\n",
    "import scipy\n",
    "cmap = cm.jet\n",
    "import math\n",
    "from sklearn.datasets import load_iris\n",
    "from sklearn.datasets import load_iris\n",
    "from sklearn.model_selection import train_test_split\n",
    "from sklearn.naive_bayes import GaussianNB\n",
    "from sklearn.metrics import confusion_matrix\n",
    "from sklearn.cross_decomposition import CCA\n",
    "from sklearn.model_selection import cross_val_score\n",
    "import random\n",
    "from sklearn.pipeline import Pipeline\n",
    "from sklearn.model_selection import KFold\n",
    "import seaborn as sns\n",
    "from sklearn.discriminant_analysis import LinearDiscriminantAnalysis as LDA\n",
    "\n",
    "\n",
    "\n",
    "import warnings\n",
    "warnings.filterwarnings(\"ignore\")\n",
    "from analysis_functions import *\n"
   ]
  },
  {
   "cell_type": "code",
   "execution_count": 2,
   "id": "1d3c23bf-b685-4169-bcc0-41280b8f17cb",
   "metadata": {},
   "outputs": [],
   "source": [
    "mouse = 56165      ### mouse number id\n",
    "decoding_v = 1            ## decoding version, normaly equal to one\n",
    "motion_correction_v = 20  ### 100 means everything was aligned, 200 means it was also equalized, 20 is for day wise\n",
    "alignment_v = 3           ## alignment version, version 3 is for day wise\n",
    "equalization_v = 0        ## equalization version\n",
    "source_extraction_v = 1   ## source extraction version\n",
    "component_evaluation_v = 1 ## component evaluation version\n",
    "\n",
    "# here we will do analysis with no registration\n",
    "# registration_v = 2        ## registration version\n",
    "sf = 10                   ## sampling frequency of the original signal \n",
    "re_sf= 1                 ## value of resampling\n",
    "session_now = 1\n",
    "period = int(10 * sf / re_sf)\n",
    "period_resting = period *50\n",
    "N_SHUFFLINGS = 50\n",
    "colorcodes = ['Greys','PuBu', 'YlOrRd','Reds','Blues','Oranges','Greens']\n"
   ]
  },
  {
   "cell_type": "code",
   "execution_count": 3,
   "id": "9c3ec460-6caa-4836-869d-16b01cc217df",
   "metadata": {},
   "outputs": [],
   "source": [
    "task,colapse_behaviour,object_fixed,fixed,labels,colornames = mouse_properties(mouse = mouse, session_now = session_now)"
   ]
  },
  {
   "cell_type": "code",
   "execution_count": 4,
   "id": "90dd31d1-54ec-4c2a-a5eb-7537390c6d03",
   "metadata": {},
   "outputs": [],
   "source": [
    "file_directory = os.environ['PROJECT_DIR'] + 'neural_analysis/data/calcium_activity_day_wise/'\n",
    "timeline_file_dir = os.environ['PROJECT_DIR'] + 'neural_analysis/data/timeline/'\n",
    "behaviour_dir = os.environ['PROJECT_DIR'] + 'calcium_imaging_behaviour/data/ethogram/' + f'{mouse}' + '/session_' + f'{session_now}' + '/'\n",
    "behaviour_dir_parameters = os.environ['PROJECT_DIR'] + 'calcium_imaging_behaviour/data/ethogram_parameters/' + f'{mouse}' + '/session_' + f'{session_now}' + '/'\n",
    "tracking_dir = os.environ['PROJECT_DIR'] + 'calcium_imaging_behaviour/data/center_of_mass/' + f'{mouse}' + '/session_' + f'{session_now}' + '/'\n",
    "objects_dir= os.environ['PROJECT_DIR'] + 'calcium_imaging_behaviour/data/object_positions/'\n",
    "figure_path = os.environ['PROJECT_DIR'] +'neural_analysis/figures/trial_aligned_events/'"
   ]
  },
  {
   "cell_type": "code",
   "execution_count": 5,
   "id": "fe6d3392-143e-44c0-abe7-074a323a89fd",
   "metadata": {},
   "outputs": [
    {
     "name": "stdout",
     "output_type": "stream",
     "text": [
      "LOADING TRIALS ACTIVITY AND CREATING LIST OF ACTIVITY, TRACKING AND BEHAVIOUR\n",
      "(195, 32368)\n",
      "(448, 30592)\n",
      "(322, 31977)\n",
      "(397, 30905)\n"
     ]
    }
   ],
   "source": [
    "activity_list,timeline_list,behaviour_list,corners_list,parameters_time,parameters_list,parameters_list2, speed_list = load_data(mouse, session_now,decoding_v, motion_correction_v, alignment_v, equalization_v,source_extraction_v,component_evaluation_v, re_sf,file_directory, timeline_file_dir, behaviour_dir, behaviour_dir_parameters, tracking_dir, objects_dir)"
   ]
  },
  {
   "cell_type": "code",
   "execution_count": 6,
   "id": "30b39c01-9fd5-4c6b-81d2-bdb205e79d92",
   "metadata": {},
   "outputs": [],
   "source": [
    "data_transformation = transform_neural_data(activity_list, behaviour_list,parameters_time,parameters_list,parameters_list2)"
   ]
  },
  {
   "cell_type": "code",
   "execution_count": 7,
   "id": "00aeac51-46c2-4765-82bd-1f6e4d81c2de",
   "metadata": {},
   "outputs": [
    {
     "name": "stdout",
     "output_type": "stream",
     "text": [
      "REDIFINING BEHAVIOUR FOR DIFFERENT SESSIONS\n"
     ]
    }
   ],
   "source": [
    "create_task_behaviour(behaviour_list,colapse_behaviour,object_fixed)"
   ]
  },
  {
   "cell_type": "code",
   "execution_count": 8,
   "id": "d866c66d-1157-43b8-8030-727244c4f618",
   "metadata": {},
   "outputs": [
    {
     "name": "stdout",
     "output_type": "stream",
     "text": [
      "CREATING CORNERS VECTORS VECTORS\n"
     ]
    }
   ],
   "source": [
    "print('CREATING CORNERS VECTORS VECTORS')\n",
    "navigation_list, exploration_list = create_corners_occupation(behaviour_list, corners_list, speed_list)"
   ]
  },
  {
   "cell_type": "code",
   "execution_count": 11,
   "id": "8954edd0-df5d-4eb7-ae8b-7e2392eb750a",
   "metadata": {},
   "outputs": [
    {
     "name": "stdout",
     "output_type": "stream",
     "text": [
      "CREATES LIST THAT SAVES ALL THE EVENTS IN A DAY AND CONTAINS ONSET OF VISITS\n"
     ]
    }
   ],
   "source": [
    "print('CREATES LIST THAT SAVES ALL THE EVENTS IN A DAY AND CONTAINS ONSET OF VISITS')\n",
    "### ethogram events list\n",
    "events_etho, events_shuffle_1_etho,events_counter_etho,events_onset_etho = create_events_list(behaviour_list, N_SHUFFLINGS)\n",
    "### navigation events list\n",
    "events_nav, events_shuffle_1_nav,events_counter_nav,events_onset_nav = create_events_list(navigation_list, N_SHUFFLINGS)\n",
    "### exploration events list\n",
    "events_exp, events_shuffle_1_exp,events_counter_exp,events_onset_exp = create_events_list(exploration_list, N_SHUFFLINGS)\n"
   ]
  },
  {
   "cell_type": "code",
   "execution_count": 12,
   "id": "3a661e49-861c-4f7f-856b-6154a2514b38",
   "metadata": {},
   "outputs": [
    {
     "name": "stdout",
     "output_type": "stream",
     "text": [
      "NOW WE SEPARATE EVENTS TYPES ACCORDING TO CORNER/OBJECT VISIT\n"
     ]
    },
    {
     "ename": "NameError",
     "evalue": "name 'behaviour_list' is not defined",
     "output_type": "error",
     "traceback": [
      "\u001b[0;31m---------------------------------------------------------------------------\u001b[0m",
      "\u001b[0;31mNameError\u001b[0m                                 Traceback (most recent call last)",
      "\u001b[0;32m/tmp/ipykernel_113215/325988610.py\u001b[0m in \u001b[0;36m<module>\u001b[0;34m\u001b[0m\n\u001b[1;32m      4\u001b[0m \u001b[0;31m# id_for ethogram object exploration\u001b[0m\u001b[0;34m\u001b[0m\u001b[0;34m\u001b[0m\u001b[0m\n\u001b[1;32m      5\u001b[0m \u001b[0mid_target_etho\u001b[0m \u001b[0;34m=\u001b[0m \u001b[0;34m[\u001b[0m\u001b[0;36m3\u001b[0m\u001b[0;34m,\u001b[0m\u001b[0;36m4\u001b[0m\u001b[0;34m]\u001b[0m\u001b[0;34m\u001b[0m\u001b[0;34m\u001b[0m\u001b[0m\n\u001b[0;32m----> 6\u001b[0;31m \u001b[0mevents_duration_etho\u001b[0m\u001b[0;34m,\u001b[0m \u001b[0mtotal_duration_etho\u001b[0m\u001b[0;34m,\u001b[0m\u001b[0mnumber_of_events_etho\u001b[0m\u001b[0;34m,\u001b[0m\u001b[0mevents_id_etho\u001b[0m \u001b[0;34m=\u001b[0m \u001b[0mcreate_id_events\u001b[0m\u001b[0;34m(\u001b[0m\u001b[0mevents_etho\u001b[0m\u001b[0;34m,\u001b[0m \u001b[0mevents_counter_etho\u001b[0m\u001b[0;34m,\u001b[0m\u001b[0mevents_onset_etho\u001b[0m\u001b[0;34m,\u001b[0m\u001b[0mid_target_etho\u001b[0m\u001b[0;34m)\u001b[0m\u001b[0;34m\u001b[0m\u001b[0;34m\u001b[0m\u001b[0m\n\u001b[0m\u001b[1;32m      7\u001b[0m \u001b[0;34m\u001b[0m\u001b[0m\n\u001b[1;32m      8\u001b[0m \u001b[0;31m# id for corners navigation\u001b[0m\u001b[0;34m\u001b[0m\u001b[0;34m\u001b[0m\u001b[0m\n",
      "\u001b[0;32m~/Documentos/neural_analysis/src/analysis_functions.py\u001b[0m in \u001b[0;36mcreate_id_events\u001b[0;34m(events_day_list_1, events_counter_day_list, event_time_starts_day, id_target)\u001b[0m\n\u001b[1;32m    467\u001b[0m     \u001b[0mevents_id\u001b[0m \u001b[0;34m=\u001b[0m \u001b[0;34m[\u001b[0m\u001b[0;34m]\u001b[0m\u001b[0;34m\u001b[0m\u001b[0;34m\u001b[0m\u001b[0m\n\u001b[1;32m    468\u001b[0m \u001b[0;34m\u001b[0m\u001b[0m\n\u001b[0;32m--> 469\u001b[0;31m     \u001b[0;32mfor\u001b[0m \u001b[0mday\u001b[0m \u001b[0;32min\u001b[0m \u001b[0mrange\u001b[0m\u001b[0;34m(\u001b[0m\u001b[0mlen\u001b[0m\u001b[0;34m(\u001b[0m\u001b[0mbehaviour_list\u001b[0m\u001b[0;34m)\u001b[0m\u001b[0;34m)\u001b[0m\u001b[0;34m:\u001b[0m\u001b[0;34m\u001b[0m\u001b[0;34m\u001b[0m\u001b[0m\n\u001b[0m\u001b[1;32m    470\u001b[0m         \u001b[0mevents_duration_day\u001b[0m \u001b[0;34m=\u001b[0m \u001b[0;34m[\u001b[0m\u001b[0;34m]\u001b[0m\u001b[0;34m\u001b[0m\u001b[0;34m\u001b[0m\u001b[0m\n\u001b[1;32m    471\u001b[0m         \u001b[0mtotal_duration_day\u001b[0m \u001b[0;34m=\u001b[0m \u001b[0;34m[\u001b[0m\u001b[0;34m]\u001b[0m\u001b[0;34m\u001b[0m\u001b[0;34m\u001b[0m\u001b[0m\n",
      "\u001b[0;31mNameError\u001b[0m: name 'behaviour_list' is not defined"
     ]
    }
   ],
   "source": [
    "print('NOW WE SEPARATE EVENTS TYPES ACCORDING TO CORNER/OBJECT VISIT')\n",
    "## compute events duration for type of event. Here we create lists that we can access to know the duration of each ID event\n",
    "## we will use this to balance the dataset\n",
    "# id_for ethogram object exploration\n",
    "id_target_etho = [3,4]\n",
    "events_duration_etho, total_duration_etho,number_of_events_etho,events_id_etho = create_id_events(events_etho, events_counter_etho,events_onset_etho,id_target_etho)\n",
    "\n",
    "# id for corners navigation\n",
    "id_target_corners = [1,2,3,4]\n",
    "events_duration_nav, total_duration_nav,number_of_events_nav,events_id_nav = create_id_events(events_nav, events_counter_nav,events_onset_nav,id_target_corners)\n",
    "\n",
    "# id for corners navigation with objects\n",
    "id_target_exp = [1,2,3,4]\n",
    "events_duration_exp, total_duration_exp,number_of_events_exp,events_id_exp = create_id_events(events_exp, events_counter_exp,events_onset_exp,id_target_exp)"
   ]
  },
  {
   "cell_type": "code",
   "execution_count": null,
   "id": "bca3f092-74e2-4b05-9eb4-eb63466273bd",
   "metadata": {},
   "outputs": [],
   "source": []
  },
  {
   "cell_type": "code",
   "execution_count": null,
   "id": "c5d8f647-7055-48cd-9ce7-99eb324f4c2d",
   "metadata": {},
   "outputs": [],
   "source": [
    "print('BALANCING TO THE LOWER NUMBER OF VISITS: ethogram')\n",
    "events_number_etho, events_etho_b, events_etho_s_b = balancing_visits(number_of_events_etho,events_duration_etho,events_id_etho)\n",
    "print('BALANCING TO THE LOWER NUMBER OF VISITS: corners navigation')\n",
    "events_number_nav, events_nav_b, events_nav_s_b = balancing_visits(number_of_events_nav,events_duration_nav,events_id_nav)\n",
    "print('BALANCING TO THE LOWER NUMBER OF VISITS: exploration navigation')\n",
    "events_number_exp, events_exp_b, events_exp_s_b = balancing_visits(number_of_events_exp,events_duration_exp,events_id_exp)\n"
   ]
  },
  {
   "cell_type": "code",
   "execution_count": null,
   "id": "07046afd-4396-4596-94e6-1d080bbccfc1",
   "metadata": {},
   "outputs": [],
   "source": [
    "print('CREATE SHUFFLE LABELS THAT PRESERVE BALANCE')\n",
    "\n",
    "\n",
    "def create_shuffling(events_day_list_1,events_counter_day_listevents_time_starts_day,number_of_events_list,events_id,events_day_list,N_SHUFFLINGS):\n",
    "### create shuffled behavioural labels that preserve balance and temporal structure\n",
    "### the shuffling will be in visits or events (so we shuffle the labels of the complete event)\n",
    "\n",
    "for day in range(len(events_day_list_1)):\n",
    "    events_shuffle = []\n",
    "    events = np.array(events_day_list_1[day])\n",
    "    events_counter = np.array(events_counter_day_list[day])\n",
    "    events_time = np.array(events_time_starts_day[day])\n",
    "    arg_min_target_time = np.argmin(number_of_events_list[day])\n",
    "    n_events = number_of_events_list[day][arg_min_target_time]\n",
    "    \n",
    "    for target in range(len(events_id[day])):\n",
    "        #print(target)\n",
    "        #print(len(events_day_list[day]))\n",
    "        #print(events_day_list[day][target])\n",
    "        all_events = np.where(events == events_id[day][target])[0]\n",
    "        #print(len(all_events))\n",
    "        position_events = all_events[events_day_list[day][target]] # select the balanced data  \n",
    "        events_shuffle.append(position_events)\n",
    "    \n",
    "    for j in range(N_SHUFFLINGS):\n",
    "        counter_permutations = 0\n",
    "        for i in range(n_events):\n",
    "            permutation = np.random.permutation(len(events_id[day]))\n",
    "            #print(permutation)\n",
    "            counter_permutations +=1\n",
    "            for index in range(len(events_id[day])):\n",
    "                events_day_list_shuffle_1[day][j][events_shuffle[index][i]] = events_id[day][permutation[index]]\n",
    "                \n",
    "    return events_day_list_shuffle_1"
   ]
  },
  {
   "cell_type": "code",
   "execution_count": null,
   "id": "1d394a72-8040-49a9-a821-d17d4045b046",
   "metadata": {},
   "outputs": [],
   "source": [
    "events_etho_shuffle = create_shuffling(events_day_list_1,events_counter_day_listevents_time_starts_day,number_of_events_list,events_id,events_day_list,N_SHUFFLINGS):"
   ]
  }
 ],
 "metadata": {
  "kernelspec": {
   "display_name": "Python 3 (ipykernel)",
   "language": "python",
   "name": "python3"
  },
  "language_info": {
   "codemirror_mode": {
    "name": "ipython",
    "version": 3
   },
   "file_extension": ".py",
   "mimetype": "text/x-python",
   "name": "python",
   "nbconvert_exporter": "python",
   "pygments_lexer": "ipython3",
   "version": "3.9.7"
  }
 },
 "nbformat": 4,
 "nbformat_minor": 5
}
