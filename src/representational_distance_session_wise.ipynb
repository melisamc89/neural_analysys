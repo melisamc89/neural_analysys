{
 "cells": [
  {
   "cell_type": "code",
   "execution_count": 1,
   "id": "07edea01-f981-4762-aa1f-01914349b242",
   "metadata": {},
   "outputs": [],
   "source": [
    "#import useful libraries\n",
    "import os\n",
    "import numpy as np\n",
    "import matplotlib.pyplot as plt\n",
    "from mpl_toolkits.mplot3d import Axes3D  # noqa: F401 unused import\n",
    "import pickle\n",
    "import configuration\n",
    "import general_statistics as stats\n",
    "import figures as figs\n",
    "import matplotlib.cm as cm\n",
    "from matplotlib import colors\n",
    "from scipy import signal\n",
    "from scipy import stats as sstats\n",
    "from sklearn.decomposition import PCA\n",
    "from sklearn.manifold import TSNE\n",
    "import scipy\n",
    "cmap = cm.jet\n",
    "import math\n",
    "from sklearn.datasets import load_iris\n",
    "from sklearn.datasets import load_iris\n",
    "from sklearn.model_selection import train_test_split\n",
    "from sklearn.naive_bayes import GaussianNB\n",
    "from sklearn.metrics import confusion_matrix\n",
    "from sklearn.cross_decomposition import CCA\n",
    "from sklearn.model_selection import cross_val_score\n",
    "import random\n",
    "from sklearn.pipeline import Pipeline\n",
    "from sklearn.model_selection import KFold\n",
    "import seaborn as sns\n",
    "from sklearn.discriminant_analysis import LinearDiscriminantAnalysis as LDA\n",
    "from matplotlib.patches import Rectangle\n",
    "\n",
    "import warnings\n",
    "warnings.filterwarnings(\"ignore\")\n",
    "from analysis_functions import *\n",
    "\n",
    "def create_task_behaviour_session_wise(behaviour_list,colapse_behaviour,object_fixed,timeline_list):\n",
    "    \n",
    "    # define targets of behaviour according to protocol (random, overlapping and stable)\n",
    "    id_target = [0,1,2,3,4] # 0: unlabeled, 1:resting, 2:Navigation, 3: Obj1, 4:Obj2, 5:Run1, 6:Run2\n",
    "    \n",
    "    print('REDIFINING BEHAVIOUR FOR DIFFERENT SESSIONS')\n",
    "    if colapse_behaviour == 0 : # RANDOM\n",
    "        for day in range(4):\n",
    "            for trial in range(5):\n",
    "                behaviour_trial = behaviour_list[int(timeline_list[day*5+2*trial]):int(timeline_list[day*5+2*trial+1])]\n",
    "                objects = np.unique(behaviour_trial)\n",
    "                if len(objects)>4:\n",
    "                    selected_object = np.random.randint(len(objects)-4,len(objects)-2,1)\n",
    "                    index0 = np.where(behaviour_trial==objects[selected_object])[0]\n",
    "                    index1 = np.where(np.logical_and(behaviour_trial==objects[len(objects)-4], behaviour_trial!=objects[selected_object]))[0]\n",
    "                    index2 = np.where(np.logical_and(behaviour_trial==objects[len(objects)-3], behaviour_trial!=objects[selected_object]))[0]\n",
    "                    behaviour_trial[index0] = 3\n",
    "                    behaviour_trial[index1] = 4\n",
    "                    behaviour_trial[index2] = 4            \n",
    "\n",
    "                    index0 = np.where(behaviour_trial==objects[selected_object]+4)[0]\n",
    "                    index1 = np.where(np.logical_and(behaviour_trial==objects[len(objects)-2], behaviour_trial!=objects[selected_object]+4))[0]\n",
    "                    index2 = np.where(np.logical_and(behaviour_trial==objects[len(objects)-1], behaviour_trial!=objects[selected_object]+4))[0]\n",
    "                    behaviour_trial[index0] = 3\n",
    "                    behaviour_trial[index1] = 4\n",
    "                    behaviour_trial[index2] = 4 \n",
    "\n",
    "                    behaviour_list[int(timeline_list[day*5+2*trial]):int(timeline_list[day*5+2*trial+1])]= behaviour_trial\n",
    "\n",
    "\n",
    "    if colapse_behaviour == 1 : #OVERLAPPING\n",
    "        behaviour_list[np.where(behaviour_list == object_fixed)[0]] = 100\n",
    "        behaviour_list[np.where(np.logical_and(behaviour_list>=3, behaviour_list<=6))[0]] = 4\n",
    "        behaviour_list[np.where(behaviour_list == 100)[0]] = 3        \n",
    "        behaviour_list[np.where(behaviour_list == object_fixed +4)[0]] = 200      \n",
    "        behaviour_list[np.where(np.logical_and(behaviour_list>=7, behaviour_list<=10))[0]] = 4\n",
    "        behaviour_list[np.where(behaviour_list == 200)[0]] = 3\n",
    "\n",
    "\n",
    "    if colapse_behaviour == 2: #STABLE\n",
    "        for day in range(4):\n",
    "            for trial in range(5):\n",
    "                behaviour_trial = behaviour_list[int(timeline_list[day*5+2*trial]):int(timeline_list[day*5+2*trial+1])]\n",
    "                objects = np.unique(behaviour_trial)\n",
    "                if len(objects)>4:\n",
    "                    selected_object = np.random.randint(len(objects)-4,len(objects)-2,1)\n",
    "                    index0 = np.where(behaviour_trial==objects[selected_object])[0]\n",
    "                    index1 = np.where(np.logical_and(behaviour_trial==objects[len(objects)-4], behaviour_trial!=objects[selected_object]))\n",
    "                    index2 = np.where(np.logical_and(behaviour_trial==objects[len(objects)-3], behaviour_trial!=objects[selected_object]))\n",
    "                    behaviour_trial[index0] = 3\n",
    "                    behaviour_trial[index1] = 4\n",
    "                    behaviour_trial[index2] = 4      \n",
    "\n",
    "                    index0 = np.where(behaviour_trial==objects[selected_object]+4)[0]\n",
    "                    index1 = np.where(np.logical_and(behaviour_trial==objects[len(objects)-2], behaviour_trial!=objects[selected_object]+4))\n",
    "                    index2 = np.where(np.logical_and(behaviour_trial==objects[len(objects)-1], behaviour_trial!=objects[selected_object]+4))\n",
    "                    behaviour_trial[index0] = 3\n",
    "                    behaviour_trial[index1] = 4\n",
    "                    behaviour_trial[index2] = 4 \n",
    "                    \n",
    "                    behaviour_list[int(timeline_list[day*5+2*trial]):int(timeline_list[day*5+2*trial+1])]= behaviour_trial\n",
    "\n",
    "    return\n",
    "\n",
    "def create_corners_occupation_session_wise(behaviour_list, corners_list, speed_list):\n",
    "    navigation_list = [] \n",
    "    exploration_list = []\n",
    "\n",
    "    speed = signal.medfilt(speed_list,9)\n",
    "    # select the corners that are being explored when the animal is doing an exploratory task\n",
    "    explorating_object = np.zeros_like(corners_list)\n",
    "    explorating_object[np.where(behaviour_list==4)[0]] = corners_list[np.where(behaviour_list==4)[0]]\n",
    "    explorating_object[np.where(behaviour_list==3)[0]] = corners_list[np.where(behaviour_list==3)[0]]\n",
    "\n",
    "    navigation_corner = np.zeros_like(corners_list)\n",
    "    for corner in [1,2,3,4]:\n",
    "        # create a vector that contains zeros everywhere but corner ID when the animal is navigation at that position with out an object\n",
    "        navigations_at_corner = np.logical_and(explorating_object==0,corners_list==corner)\n",
    "        navigation_corner[navigations_at_corner] = corner\n",
    "\n",
    "        navigation_list.append(navigation_corner)\n",
    "        exploration_list.append(explorating_object)\n",
    "        \n",
    "    return navigation_list, exploration_list\n"
   ]
  },
  {
   "cell_type": "code",
   "execution_count": 2,
   "id": "717f036b-9dfe-481b-8c53-b8f91a3b365d",
   "metadata": {},
   "outputs": [],
   "source": [
    "decoding_v = 1            ## decoding version, normaly equal to one\n",
    "motion_correction_v = 10  ### 100 means everything was aligned, 200 means it was also equalized, 20 is for day wise\n",
    "alignment_v = 2           ## alignment version, version 3 is trial wise\n",
    "equalization_v = 0        ## equalization version\n",
    "source_extraction_v = 1   ## source extraction version\n",
    "component_evaluation_v = 1 ## component evaluation version\n",
    "binary = True\n",
    "\n",
    "# here we will do analysis with no registration\n",
    "# registration_v = 2        ## registration version\n",
    "sf = 10                   ## sampling frequency of the original signal \n",
    "re_sf= 1                 ## value of resampling\n",
    "period = int(5 * sf / re_sf)\n",
    "period_resting = period *50\n",
    "N_SHUFFLINGS = 50\n",
    "colorcodes = ['Greys','PuBu', 'YlOrRd','Reds','Blues','Oranges','Greens']\n"
   ]
  },
  {
   "cell_type": "code",
   "execution_count": 3,
   "id": "2649a2d9-38b7-4c80-b0eb-48e28665fcc4",
   "metadata": {},
   "outputs": [
    {
     "name": "stdout",
     "output_type": "stream",
     "text": [
      "SESSION ==== 1\n"
     ]
    }
   ],
   "source": [
    "mouse_vector = [56165, 56166, 32363, 32364, 32365, 32366, 411857, 401714]\n",
    "\n",
    "mouse = 411857 \n",
    "figure_path = os.environ['PROJECT_DIR'] +'neural_analysis/figures/registered/'\n",
    "\n",
    "session_now = 1\n",
    "\n",
    "print('SESSION ====', session_now)\n",
    "\n",
    "file_directory = os.environ['PROJECT_DIR'] + 'neural_analysis/data/calcium_activity_session_wise/'\n",
    "timeline_file_dir = os.environ['PROJECT_DIR'] + 'neural_analysis/data/timeline/registered/'\n",
    "behaviour_dir = os.environ['PROJECT_DIR'] + 'calcium_imaging_behaviour/data/ethogram/' + f'{mouse}' + '/session_' + f'{session_now}' + '/'\n",
    "behaviour_dir_parameters = os.environ['PROJECT_DIR'] + 'calcium_imaging_behaviour/data/ethogram_parameters/' + f'{mouse}' + '/session_' + f'{session_now}' + '/'\n",
    "tracking_dir = os.environ['PROJECT_DIR'] + 'calcium_imaging_behaviour/data/center_of_mass/' + f'{mouse}' + '/session_' + f'{session_now}' + '/'\n",
    "objects_dir= os.environ['PROJECT_DIR'] + 'calcium_imaging_behaviour/data/object_positions/'\n",
    "figure_path = os.environ['PROJECT_DIR'] +'neural_analysis/figures/registered/'\n",
    "\n",
    "objects_position_file = os.environ['PROJECT_DIR'] + 'calcium_imaging_behaviour/data/occupied_corners/' + 'mouse_'+f'{mouse}'+'_session_'+f'{session_now}'+'.npy'\n",
    "occupied_corners = np.load(objects_position_file)\n",
    "task,colapse_behaviour,object_fixed,fixed,labels,colornames = mouse_properties(mouse = mouse, session_now = session_now)"
   ]
  },
  {
   "cell_type": "code",
   "execution_count": 4,
   "id": "2751e9ae-1e86-4c62-9119-a1fbcb9bde84",
   "metadata": {},
   "outputs": [
    {
     "name": "stdout",
     "output_type": "stream",
     "text": [
      "LOADING TRIALS ACTIVITY AND CREATING LIST OF ACTIVITY, TRACKING AND BEHAVIOUR\n",
      "neural shape =  (571, 135118) beh shape(135118,)\n",
      "REDIFINING BEHAVIOUR FOR DIFFERENT SESSIONS\n"
     ]
    }
   ],
   "source": [
    "activity_list,timeline_list,behaviour_list,corners_list,parameters_time,parameters_list,parameters_list2, speed_list= load_data_session(mouse, session_now,re_sf,file_directory, timeline_file_dir, behaviour_dir, behaviour_dir_parameters, objects_dir)\n",
    "create_task_behaviour_session_wise(behaviour_list,colapse_behaviour,object_fixed,timeline_list)\n",
    "# figure, axes = plt.subplots()\n",
    "\n",
    "# C_0 = activity_list.copy()\n",
    "# size = 100\n",
    "# for i in range(size):\n",
    "#     norm = (C_0[i,:]-np.min(C_0[i,:]))/(np.max(C_0[i,:])-np.min(C_0[i,:]))\n",
    "#     plt.plot(norm+i)\n",
    "\n",
    "# figure.set_size_inches([50,size])\n",
    "# figure.savefig(figure_path+'calcium_traces_registered.png')"
   ]
  },
  {
   "cell_type": "code",
   "execution_count": 5,
   "id": "cbee2134-6608-417c-b68b-1b9b4fed1192",
   "metadata": {},
   "outputs": [],
   "source": [
    "data_transformation = transform_neural_data_session_wise(activity_list, behaviour_list,parameters_time,parameters_list,parameters_list2,timeline_list)    \n"
   ]
  },
  {
   "cell_type": "code",
   "execution_count": 26,
   "id": "d52fcc63-18e6-4ef0-8619-11d1293349a0",
   "metadata": {},
   "outputs": [
    {
     "name": "stdout",
     "output_type": "stream",
     "text": [
      "REDIFINING BEHAVIOUR FOR DIFFERENT SESSIONS\n"
     ]
    }
   ],
   "source": []
  },
  {
   "cell_type": "code",
   "execution_count": 7,
   "id": "9c9e93e0-1461-4f6f-b857-a44c644c265c",
   "metadata": {},
   "outputs": [],
   "source": [
    "navigation_list, exploration_list = create_corners_occupation_session_wise(behaviour_list, corners_list, speed_list)\n",
    "combination_corners = []\n",
    "for i in range(len(navigation_list)):\n",
    "    combination_corners.append(navigation_list[i] + 10*exploration_list[i])\n",
    "id_target_combination = [1,2,3,4,10,20,30,40]"
   ]
  },
  {
   "cell_type": "code",
   "execution_count": 27,
   "id": "c5cbab69-a480-4550-9b6a-dca911329f4e",
   "metadata": {},
   "outputs": [
    {
     "data": {
      "text/plain": [
       "(8, 135118)"
      ]
     },
     "execution_count": 27,
     "metadata": {},
     "output_type": "execute_result"
    }
   ],
   "source": [
    "\n",
    "data_transformation.lda.shape"
   ]
  },
  {
   "cell_type": "code",
   "execution_count": 32,
   "id": "5234b820-5ba5-4e6b-8ca8-513dae1a7e6b",
   "metadata": {},
   "outputs": [
    {
     "data": {
      "text/plain": [
       "[<matplotlib.lines.Line2D at 0x7fa7f47603d0>]"
      ]
     },
     "execution_count": 32,
     "metadata": {},
     "output_type": "execute_result"
    },
    {
     "data": {
      "image/png": "[encoded data removed]",
      "text/plain": [
       "<Figure size 432x288 with 1 Axes>"
      ]
     },
     "metadata": {
      "needs_background": "light"
     },
     "output_type": "display_data"
    }
   ],
   "source": [
    "plt.plot(behaviour_list[0:3000])"
   ]
  },
  {
   "cell_type": "code",
   "execution_count": null,
   "id": "588e18e9-b0bc-4b96-8f63-11e3ee902247",
   "metadata": {},
   "outputs": [],
   "source": []
  },
  {
   "cell_type": "code",
   "execution_count": 29,
   "id": "1646b855-8d4f-428a-9752-75f444a3f67e",
   "metadata": {},
   "outputs": [],
   "source": [
    "def create_list(data,timeline):\n",
    "    \n",
    "    data_list = []\n",
    "    for i in range(len(timeline)-1):\n",
    "        index1 = int(timeline[i])\n",
    "        index2 = int(timeline[i+1])\n",
    "        data_list.append(data[:,index1:index2])\n",
    "    \n",
    "    return data_list\n",
    "\n",
    "def create_data_transformation_list(data_transformation,timeline):\n",
    "    \n",
    "    data_pca = []\n",
    "    variance = []\n",
    "    data_cca0 = []\n",
    "    data_cca1 = []\n",
    "    data_cca2 = []\n",
    "    data_lda = []\n",
    "    data_trials = []\n",
    "    for i in range(len(timeline)-1):\n",
    "        index1 = int(timeline[i])\n",
    "        index2 = int(timeline[i+1])\n",
    "        data_pca.append(data_transformation.pca[:,index1:index2])\n",
    "        variance.append(data_transformation.variance_ratio)\n",
    "        data_cca0.append(data_transformation.cca_time[:,index1:index2])\n",
    "        data_cca1.append(data_transformation.cca_allo[:,index1:index2])\n",
    "        data_cca2.append(data_transformation.cca_ego[:,index1:index2])\n",
    "        data_lda.append(data_transformation.lda[:,index1:index2])\n",
    "        data_trials.append(i)\n",
    "        \n",
    "\n",
    "    data_transformation = namedtuple('data_transformation', ['pca','variance_ratio','cca_time','cca_allo','cca_ego','lda','trials'])\n",
    "\n",
    "    return data_transformation(data_pca,variance,data_cca0,data_cca1,data_cca2,data_lda,data_trials)\n",
    "    \n",
    "def create_trials(activity_list,data_transformation,combination_corners,timeline_list):\n",
    "    \n",
    "    activity = create_list(activity_list,timeline_list)\n",
    "    \n",
    "    data_transformation_list =  create_data_transformation_list(data_transformation,timeline_list)\n",
    "    \n",
    "    data_list = []\n",
    "    for i in range(len(timeline_list)-1):\n",
    "        index1 = int(timeline_list[i])\n",
    "        index2 = int(timeline_list[i+1])\n",
    "        data_list.append(combination_corners[index1:index2])\n",
    "        \n",
    "    return activity, data_transformation_list, data_list\n",
    "    "
   ]
  },
  {
   "cell_type": "code",
   "execution_count": 30,
   "id": "88185717-2ea6-4eab-8f26-a57ecc49c1c7",
   "metadata": {},
   "outputs": [],
   "source": [
    "activity1, data_transformation1, combination_corners1 = create_trials(activity_list,data_transformation,combination_corners,timeline_list)\n",
    "   "
   ]
  },
  {
   "cell_type": "code",
   "execution_count": 38,
   "id": "e6964dc8-ae1b-4e87-80e1-4d282eb3ef52",
   "metadata": {},
   "outputs": [
    {
     "data": {
      "text/plain": [
       "42"
      ]
     },
     "execution_count": 38,
     "metadata": {},
     "output_type": "execute_result"
    }
   ],
   "source": [
    "len(combination_corners1)"
   ]
  },
  {
   "cell_type": "code",
   "execution_count": 32,
   "id": "af9be7cf-46ac-47cc-8e0d-67706b8ff950",
   "metadata": {},
   "outputs": [
    {
     "name": "stdout",
     "output_type": "stream",
     "text": [
      "CREATE LIST THAT SAVES ALL THE EVENTS IN A DAY AND CONTAINS ONSET OF VISITS\n"
     ]
    },
    {
     "ename": "AttributeError",
     "evalue": "'list' object has no attribute 'shape'",
     "output_type": "error",
     "traceback": [
      "\u001b[0;31m---------------------------------------------------------------------------\u001b[0m",
      "\u001b[0;31mAttributeError\u001b[0m                            Traceback (most recent call last)",
      "\u001b[0;32m/tmp/ipykernel_123567/3363619774.py\u001b[0m in \u001b[0;36m<module>\u001b[0;34m\u001b[0m\n\u001b[1;32m      1\u001b[0m \u001b[0mmetric_use\u001b[0m \u001b[0;34m=\u001b[0m \u001b[0;34m'euclidean'\u001b[0m\u001b[0;34m\u001b[0m\u001b[0;34m\u001b[0m\u001b[0m\n\u001b[0;32m----> 2\u001b[0;31m \u001b[0mtrial_activity\u001b[0m\u001b[0;34m,\u001b[0m \u001b[0mtrial_activity_shuffle\u001b[0m\u001b[0;34m,\u001b[0m \u001b[0mevnets_id\u001b[0m\u001b[0;34m,\u001b[0m \u001b[0mdistance\u001b[0m \u001b[0;34m=\u001b[0m \u001b[0mcompute_representational_distance_measures_all_to_all\u001b[0m\u001b[0;34m(\u001b[0m\u001b[0mactivity1\u001b[0m\u001b[0;34m,\u001b[0m\u001b[0mdata_transformation1\u001b[0m\u001b[0;34m,\u001b[0m\u001b[0mperiod\u001b[0m\u001b[0;34m,\u001b[0m\u001b[0mcombination_corners1\u001b[0m\u001b[0;34m,\u001b[0m\u001b[0mid_target_combination\u001b[0m\u001b[0;34m,\u001b[0m\u001b[0mN_SHUFFLINGS\u001b[0m\u001b[0;34m,\u001b[0m\u001b[0;34m[\u001b[0m\u001b[0;36m1\u001b[0m\u001b[0;34m]\u001b[0m\u001b[0;34m,\u001b[0m\u001b[0mmetric\u001b[0m \u001b[0;34m=\u001b[0m \u001b[0mmetric_use\u001b[0m\u001b[0;34m)\u001b[0m\u001b[0;34m\u001b[0m\u001b[0;34m\u001b[0m\u001b[0m\n\u001b[0m\u001b[1;32m      3\u001b[0m \u001b[0;34m\u001b[0m\u001b[0m\n\u001b[1;32m      4\u001b[0m \u001b[0;34m\u001b[0m\u001b[0m\n",
      "\u001b[0;32m~/Documentos/neural_analysis/src/analysis_functions.py\u001b[0m in \u001b[0;36mcompute_representational_distance_measures_all_to_all\u001b[0;34m(activity_list, data_transformation, period, behaviour_list, id_target, N_SHUFFLINGS, trial_list, metric, trial_flag)\u001b[0m\n\u001b[1;32m   2063\u001b[0m \u001b[0;34m\u001b[0m\u001b[0m\n\u001b[1;32m   2064\u001b[0m     \u001b[0mprint\u001b[0m\u001b[0;34m(\u001b[0m\u001b[0;34m'CREATE LIST THAT SAVES ALL THE EVENTS IN A DAY AND CONTAINS ONSET OF VISITS'\u001b[0m\u001b[0;34m)\u001b[0m\u001b[0;34m\u001b[0m\u001b[0;34m\u001b[0m\u001b[0m\n\u001b[0;32m-> 2065\u001b[0;31m     \u001b[0mevents_etho\u001b[0m\u001b[0;34m,\u001b[0m \u001b[0mevents_shuffle_etho\u001b[0m\u001b[0;34m,\u001b[0m\u001b[0mevents_counter_etho\u001b[0m\u001b[0;34m,\u001b[0m\u001b[0mevents_onset_etho\u001b[0m \u001b[0;34m=\u001b[0m \u001b[0mcreate_events_list\u001b[0m\u001b[0;34m(\u001b[0m\u001b[0mbehaviour_list\u001b[0m\u001b[0;34m,\u001b[0m \u001b[0mN_SHUFFLINGS\u001b[0m\u001b[0;34m,\u001b[0m\u001b[0mtrial_list\u001b[0m\u001b[0;34m)\u001b[0m\u001b[0;34m\u001b[0m\u001b[0;34m\u001b[0m\u001b[0m\n\u001b[0m\u001b[1;32m   2066\u001b[0m     \u001b[0mprint\u001b[0m\u001b[0;34m(\u001b[0m\u001b[0;34m'NOW WE SEPARATE EVENTS TYPES ACCORDING TO CORNER/OBJECT VISIT'\u001b[0m\u001b[0;34m)\u001b[0m\u001b[0;34m\u001b[0m\u001b[0;34m\u001b[0m\u001b[0m\n\u001b[1;32m   2067\u001b[0m     \u001b[0mevents_duration_etho\u001b[0m\u001b[0;34m,\u001b[0m \u001b[0mtotal_duration_etho\u001b[0m\u001b[0;34m,\u001b[0m\u001b[0mnumber_of_events_etho\u001b[0m\u001b[0;34m,\u001b[0m\u001b[0mevents_id_etho\u001b[0m \u001b[0;34m=\u001b[0m \u001b[0mcreate_id_events\u001b[0m\u001b[0;34m(\u001b[0m\u001b[0mevents_etho\u001b[0m\u001b[0;34m,\u001b[0m \u001b[0mevents_counter_etho\u001b[0m\u001b[0;34m,\u001b[0m\u001b[0mevents_onset_etho\u001b[0m\u001b[0;34m,\u001b[0m\u001b[0mid_target\u001b[0m\u001b[0;34m,\u001b[0m\u001b[0mtrial_list\u001b[0m\u001b[0;34m)\u001b[0m\u001b[0;34m\u001b[0m\u001b[0;34m\u001b[0m\u001b[0m\n",
      "\u001b[0;32m~/Documentos/neural_analysis/src/analysis_functions.py\u001b[0m in \u001b[0;36mcreate_events_list\u001b[0;34m(behaviour, N_SHUFFLINGS, trial_list)\u001b[0m\n\u001b[1;32m   1381\u001b[0m             \u001b[0mstart_counter\u001b[0m \u001b[0;34m=\u001b[0m \u001b[0;36m100\u001b[0m\u001b[0;34m\u001b[0m\u001b[0;34m\u001b[0m\u001b[0m\n\u001b[1;32m   1382\u001b[0m             \u001b[0mcounter\u001b[0m \u001b[0;34m=\u001b[0m \u001b[0;36m0\u001b[0m\u001b[0;34m\u001b[0m\u001b[0;34m\u001b[0m\u001b[0m\n\u001b[0;32m-> 1383\u001b[0;31m             \u001b[0;32mfor\u001b[0m \u001b[0mi\u001b[0m \u001b[0;32min\u001b[0m \u001b[0mrange\u001b[0m\u001b[0;34m(\u001b[0m\u001b[0mbehaviour\u001b[0m\u001b[0;34m[\u001b[0m\u001b[0mday\u001b[0m\u001b[0;34m]\u001b[0m\u001b[0;34m.\u001b[0m\u001b[0mshape\u001b[0m\u001b[0;34m[\u001b[0m\u001b[0;36m0\u001b[0m\u001b[0;34m]\u001b[0m\u001b[0;34m)\u001b[0m\u001b[0;34m:\u001b[0m\u001b[0;34m\u001b[0m\u001b[0;34m\u001b[0m\u001b[0m\n\u001b[0m\u001b[1;32m   1384\u001b[0m                 \u001b[0;32mif\u001b[0m \u001b[0mbehaviour\u001b[0m\u001b[0;34m[\u001b[0m\u001b[0mday\u001b[0m\u001b[0;34m]\u001b[0m\u001b[0;34m[\u001b[0m\u001b[0mi\u001b[0m\u001b[0;34m]\u001b[0m \u001b[0;34m!=\u001b[0m \u001b[0mstart_counter\u001b[0m\u001b[0;34m:\u001b[0m\u001b[0;34m\u001b[0m\u001b[0;34m\u001b[0m\u001b[0m\n\u001b[1;32m   1385\u001b[0m                     \u001b[0mevents_list\u001b[0m\u001b[0;34m.\u001b[0m\u001b[0mappend\u001b[0m\u001b[0;34m(\u001b[0m\u001b[0mstart_counter\u001b[0m\u001b[0;34m)\u001b[0m \u001b[0;31m# contains a sequence of events ID\u001b[0m\u001b[0;34m\u001b[0m\u001b[0;34m\u001b[0m\u001b[0m\n",
      "\u001b[0;31mAttributeError\u001b[0m: 'list' object has no attribute 'shape'"
     ]
    }
   ],
   "source": [
    "metric_use = 'euclidean'\n",
    "trial_activity, trial_activity_shuffle, evnets_id, distance = compute_representational_distance_measures_all_to_all(activity1,data_transformation1,period,combination_corners1,id_target_combination,N_SHUFFLINGS,[1],metric = metric_use)\n",
    "      \n",
    "    "
   ]
  },
  {
   "cell_type": "code",
   "execution_count": 18,
   "id": "c0593edb-012a-4a95-9728-e1a106f1cee7",
   "metadata": {},
   "outputs": [
    {
     "ename": "AttributeError",
     "evalue": "'data_transformation' object has no attribute 'trials'",
     "output_type": "error",
     "traceback": [
      "\u001b[0;31m---------------------------------------------------------------------------\u001b[0m",
      "\u001b[0;31mAttributeError\u001b[0m                            Traceback (most recent call last)",
      "\u001b[0;32m/tmp/ipykernel_123567/1939525826.py\u001b[0m in \u001b[0;36m<module>\u001b[0;34m\u001b[0m\n\u001b[1;32m      1\u001b[0m \u001b[0mmetric_use\u001b[0m \u001b[0;34m=\u001b[0m \u001b[0;34m'euclidean'\u001b[0m\u001b[0;34m\u001b[0m\u001b[0;34m\u001b[0m\u001b[0m\n\u001b[0;32m----> 2\u001b[0;31m \u001b[0mtrial_activity\u001b[0m\u001b[0;34m,\u001b[0m \u001b[0mtrial_activity_shuffle\u001b[0m\u001b[0;34m,\u001b[0m \u001b[0mevnets_id\u001b[0m\u001b[0;34m,\u001b[0m \u001b[0mdistance\u001b[0m \u001b[0;34m=\u001b[0m \u001b[0mcompute_representational_distance_measures_all_to_all\u001b[0m\u001b[0;34m(\u001b[0m\u001b[0mactivity_list\u001b[0m\u001b[0;34m,\u001b[0m\u001b[0mdata_transformation\u001b[0m\u001b[0;34m,\u001b[0m\u001b[0mperiod\u001b[0m\u001b[0;34m,\u001b[0m\u001b[0mcombination_corners1\u001b[0m\u001b[0;34m,\u001b[0m\u001b[0mid_target_combination\u001b[0m\u001b[0;34m,\u001b[0m\u001b[0mN_SHUFFLINGS\u001b[0m\u001b[0;34m,\u001b[0m\u001b[0mdata_transformation\u001b[0m\u001b[0;34m.\u001b[0m\u001b[0mtrials\u001b[0m\u001b[0;34m,\u001b[0m\u001b[0mmetric\u001b[0m \u001b[0;34m=\u001b[0m \u001b[0mmetric_use\u001b[0m\u001b[0;34m)\u001b[0m\u001b[0;34m\u001b[0m\u001b[0;34m\u001b[0m\u001b[0m\n\u001b[0m\u001b[1;32m      3\u001b[0m \u001b[0;34m\u001b[0m\u001b[0m\n\u001b[1;32m      4\u001b[0m \u001b[0moutput_directory\u001b[0m \u001b[0;34m=\u001b[0m \u001b[0;34m'/home/melisamc/Documentos/neural_analysis/data/mean_representational_distance/distance_matrix/'\u001b[0m\u001b[0;34m\u001b[0m\u001b[0;34m\u001b[0m\u001b[0m\n\u001b[1;32m      5\u001b[0m \u001b[0mdistance_matrix_file\u001b[0m \u001b[0;34m=\u001b[0m \u001b[0moutput_directory\u001b[0m \u001b[0;34m+\u001b[0m \u001b[0;34m'distance_matrix_mouse_'\u001b[0m \u001b[0;34m+\u001b[0m \u001b[0;34mf'{mouse}'\u001b[0m \u001b[0;34m+\u001b[0m\u001b[0;34m'_session_'\u001b[0m\u001b[0;34m+\u001b[0m \u001b[0;34mf'{session_now}'\u001b[0m \u001b[0;34m+\u001b[0m\u001b[0;34m'.daily_zscored.npy'\u001b[0m\u001b[0;34m\u001b[0m\u001b[0;34m\u001b[0m\u001b[0m\n",
      "\u001b[0;31mAttributeError\u001b[0m: 'data_transformation' object has no attribute 'trials'"
     ]
    }
   ],
   "source": [
    "    \n",
    "metric_use = 'euclidean'\n",
    "trial_activity, trial_activity_shuffle, evnets_id, distance = compute_representational_distance_measures_all_to_all(activity1,data_transformation,period,combination_corners1,id_target_combination,N_SHUFFLINGS,data_transformation.trials,metric = metric_use)\n",
    "    \n",
    "output_directory = '/home/melisamc/Documentos/neural_analysis/data/mean_representational_distance/distance_matrix/'\n",
    "distance_matrix_file = output_directory + 'distance_matrix_mouse_' + f'{mouse}' +'_session_'+ f'{session_now}' +'.daily_zscored.npy'\n",
    "np.save(distance_matrix_file,distance)\n",
    " "
   ]
  },
  {
   "cell_type": "code",
   "execution_count": null,
   "id": "469a0e9e-d5b9-4e28-b5c6-f1c07a7d8a57",
   "metadata": {},
   "outputs": [],
   "source": [
    "   \n",
    "#     ##### TRIAL TRANSFORMATIONS ####\n",
    "    activity_list_trial,timeline_list_trial,behaviour_list_trial,corners_list_trial,parameters_time_trial,parameters_list_trial,parameters_list2_trial, speed_list_trial,trial_list,tracking_list_trial = load_data_trial(mouse, session_now,decoding_v, motion_correction_v, alignment_v, equalization_v,source_extraction_v,component_evaluation_v, re_sf,file_directory, timeline_file_dir, behaviour_dir, behaviour_dir_parameters, tracking_dir, objects_dir,binary = False)\n",
    "    data_transformation_trial = transform_neural_data(activity_list_trial, behaviour_list_trial,parameters_time_trial,parameters_list_trial,parameters_list2_trial,timeline_list_trial,trial_list)\n",
    "    #data_transformation_trial = transform_neural_data(activity_list, behaviour_list,parameters_time,parameters_list,parameters_list2,timeline_list,day_list,trial_flag = True)\n",
    "    \n",
    "    create_task_behaviour_trial(behaviour_list_trial,colapse_behaviour,object_fixed,timeline_list_trial,data_transformation_trial.trials)    \n",
    "    navigation_list_trial, exploration_list_trial = create_corners_occupation(behaviour_list_trial, corners_list_trial, speed_list_trial,data_transformation_trial.trials)   \n",
    "    \n",
    "    combination_corners_trial = corners_list_trial\n",
    "    id_target_combination = [1,2,3,4]\n",
    "    \n",
    "    trial_activity, trial_activity_shuffle, events_id, distance = compute_representational_distance_measures_all_to_all(activity_list_trial,data_transformation_trial,period,combination_corners_trial,id_target_combination,N_SHUFFLINGS,data_transformation_trial.trials,metric = metric_use,trial_flag = True)\n",
    "    output_directory = '/home/melisamc/Documentos/neural_analysis/data/mean_representational_distance/distance_matrix/'\n",
    "    distance_matrix_file = output_directory + 'distance_matrix_mouse_' + f'{mouse}' +'_session_'+ f'{session_now}' +'_trial_based_zscored_1.npy'\n",
    "    np.save(distance_matrix_file,distance)\n",
    "    \n",
    "    data_transformation_trial_2 = transform_neural_data(activity_list, behaviour_list,parameters_time,parameters_list,parameters_list2,timeline_list,day_list,trial_flag = True)\n",
    "    \n",
    "    create_task_behaviour_trial(behaviour_list_trial,colapse_behaviour,object_fixed,timeline_list_trial,data_transformation_trial.trials)    \n",
    "    navigation_list_trial, exploration_list_trial = create_corners_occupation(behaviour_list_trial, corners_list_trial, speed_list_trial,data_transformation_trial.trials)   \n",
    "    \n",
    "    combination_corners_trial = corners_list_trial\n",
    "    id_target_combination = [1,2,3,4]\n",
    "    \n",
    "    trial_activity, trial_activity_shuffle, events_id,distance = compute_representational_distance_measures_all_to_all(activity_list_trial,data_transformation_trial_2,period,combination_corners_trial,id_target_combination,N_SHUFFLINGS,data_transformation_trial.trials,metric = metric_use,trial_flag = True)\n",
    "    output_directory = '/home/melisamc/Documentos/neural_analysis/data/mean_representational_distance/distance_matrix/'\n",
    "    distance_matrix_file = output_directory + 'distance_matrix_mouse_' + f'{mouse}' +'_session_'+ f'{session_now}' +'_trial_based_zscored_2.npy'\n",
    "    np.save(distance_matrix_file,distance)\n",
    "    \n",
    "    "
   ]
  }
 ],
 "metadata": {
  "kernelspec": {
   "display_name": "Python 3 (ipykernel)",
   "language": "python",
   "name": "python3"
  },
  "language_info": {
   "codemirror_mode": {
    "name": "ipython",
    "version": 3
   },
   "file_extension": ".py",
   "mimetype": "text/x-python",
   "name": "python",
   "nbconvert_exporter": "python",
   "pygments_lexer": "ipython3",
   "version": "3.9.7"
  }
 },
 "nbformat": 4,
 "nbformat_minor": 5
}
