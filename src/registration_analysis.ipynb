{
 "cells": [
  {
   "cell_type": "markdown",
   "metadata": {},
   "source": [
    "# Comparison of multiple registrations\n",
    "\n",
    "''' Created on Wed 20 May 2020'''\n"
   ]
  },
  {
   "cell_type": "code",
   "execution_count": 91,
   "metadata": {},
   "outputs": [],
   "source": [
    "import os\n",
    "import numpy as np\n",
    "import matplotlib.pyplot as plt\n",
    "from mpl_toolkits.mplot3d import Axes3D  # noqa: F401 unused import\n",
    "import pickle\n",
    "import configuration\n",
    "import general_statistics as stats\n",
    "import figures as figs\n",
    "import matplotlib.cm as cm\n",
    "from matplotlib import colors\n",
    "from scipy import signal\n",
    "import scipy\n",
    "cmap = cm.jet"
   ]
  },
  {
   "cell_type": "code",
   "execution_count": 92,
   "metadata": {},
   "outputs": [],
   "source": [
    "mouse = 32364             ### mouse number id\n",
    "decoding_v = 1            ## decoding version, normaly equal to one\n",
    "motion_correction_v = 100 ### 100 means everything was aligned, 200 means it was also equalized\n",
    "alignment_v = 1           ## alignment version\n",
    "equalization_v = 0        ## equalization version\n",
    "source_extraction_v = 1   ## source extraction version\n",
    "component_evaluation_v = 1 ## component evaluation version\n",
    "registration_v = 1        ## registration version\n",
    "sf = 10                   ## sampling frequency of the original signal \n",
    "re_sf= 20                 ## value of resampling"
   ]
  },
  {
   "cell_type": "code",
   "execution_count": 93,
   "metadata": {},
   "outputs": [],
   "source": [
    "file_directory = os.environ['PROJECT_DIR'] + 'neural_analysis/data/calcium_activity_normed/'\n",
    "timeline_file_dir = os.environ['PROJECT_DIR'] + 'neural_analysis/data/timeline/'\n",
    "behaviour_dir = os.environ['PROJECT_DIR'] + 'calcium_imaging_behaviour/data/scoring_time_vector/'\n",
    "objects_dir= os.environ['PROJECT_DIR'] + 'calcium_imaging_behaviour/data/object_positions/'\n",
    "figure_path = os.environ['PROJECT_DIR'] +'neural_analysis/data/process/figures/traces/'"
   ]
  },
  {
   "cell_type": "code",
   "execution_count": 100,
   "metadata": {
    "scrolled": false
   },
   "outputs": [
    {
     "name": "stdout",
     "output_type": "stream",
     "text": [
      "(262, 130631)\n",
      "(259, 131992)\n"
     ]
    },
    {
     "data": {
      "image/png": "[encoded data removed]",
      "text/plain": [
       "<Figure size 720x720 with 2 Axes>"
      ]
     },
     "metadata": {
      "needs_background": "light"
     },
     "output_type": "display_data"
    }
   ],
   "source": [
    "session = 1\n",
    "\n",
    "time_file_session_1 =  'mouse_'+ f'{mouse}'+'_session_'+ f'{session}' +'_trial_1_v'+ f'{decoding_v}'+'.4.'+f'{1}'+\\\n",
    "                          '.'+f'{0}'+ '.pkl'\n",
    "beh_file_name_1 = 'mouse_'+f'{mouse}'+'_session_'+f'{session}'+'_event_'+f'{re_sf}'+'.npy'\n",
    "\n",
    "registration_v = 1\n",
    "file_name_session_1 = 'mouse_'+ f'{mouse}'+'_session_'+ f'{session}' +'_trial_1_v'+ f'{decoding_v}'+'.4.'+f'{100}'+\\\n",
    "                           '.'+f'{alignment_v}'+'.'+ f'{equalization_v}' +'.' + f'{source_extraction_v}'+'.' + \\\n",
    "                              f'{component_evaluation_v}' +'.'+ f'{registration_v}' + '.npy'\n",
    "activity_original = np.load(file_directory + file_name_session_1)\n",
    "print(activity_original.shape)\n",
    "\n",
    "figure, axes = plt.subplots(2,1)\n",
    "axes[0].plot(activity_original[24,:],color = 'k')\n",
    "\n",
    "registration_v = 2\n",
    "file_name_session_1 = 'mouse_'+ f'{mouse}'+'_session_'+ f'{session}' +'_trial_1_v'+ f'{decoding_v}'+'.4.'+f'{100}'+\\\n",
    "                           '.'+f'{alignment_v}'+'.'+ f'{equalization_v}' +'.' + f'{source_extraction_v}'+'.' + \\\n",
    "                              f'{component_evaluation_v}' +'.'+ f'{registration_v}' + '.npy'\n",
    "activity_shuffle = np.load(file_directory + file_name_session_1)\n",
    "print(activity_shuffle.shape)\n",
    "\n",
    "axes[1].plot(activity_shuffle[5,:])\n",
    "figure.set_size_inches([10., 10])\n"
   ]
  },
  {
   "cell_type": "code",
   "execution_count": 77,
   "metadata": {},
   "outputs": [],
   "source": [
    "for registration_v in [1,2,3,4]:\n",
    "    file_name_session_1 = 'mouse_'+ f'{mouse}'+'_session_'+ f'{session}' +'_trial_1_v'+ f'{decoding_v}'+'.4.'+f'{100}'+\\\n",
    "                           '.'+f'{alignment_v}'+'.'+ f'{equalization_v}' +'.' + f'{source_extraction_v}'+'.' + \\\n",
    "                              f'{component_evaluation_v}' +'.'+ f'{registration_v}' + '.npy'\n",
    "    activity = np.load(file_directory + file_name_session_1)\n",
    "    print(activity.shape)\n",
    "    figure, axes = plt.subplots(1)\n",
    "    C_0 = activity[1:,:].copy()\n",
    "    C_0[0] += C_0[0].min()\n",
    "    for i in range(1, len(C_0)):\n",
    "        C_0[i] += C_0[i].min() + C_0[:i].max()\n",
    "        axes.plot(C_0[i])\n",
    "    axes.set_xlabel('t [frames]')\n",
    "    axes.set_yticks([])\n",
    "    #axes.vlines(timeline,0, 150000, color = 'k')\n",
    "    axes.set_ylabel('activity')\n",
    "    figure.set_size_inches([50., .5 * len(C_0)])\n",
    "    figure_name = 'mouse_'+ f'{mouse}'+'_session_'+ f'{session}' +'_trial_1_v'+ f'{decoding_v}'+'.4.'+f'{100}'+\\\n",
    "                           '.'+f'{alignment_v}'+'.'+ f'{equalization_v}' +'.' + f'{source_extraction_v}'+'.' + \\\n",
    "                              f'{component_evaluation_v}' +'.'+ f'{registration_v}' + '.png'\n",
    "    figure.savefig(figure_path + figure_name)\n",
    "\n"
   ]
  },
  {
   "cell_type": "code",
   "execution_count": null,
   "metadata": {},
   "outputs": [],
   "source": [
    "\n"
   ]
  },
  {
   "cell_type": "code",
   "execution_count": null,
   "metadata": {},
   "outputs": [],
   "source": []
  },
  {
   "cell_type": "code",
   "execution_count": null,
   "metadata": {},
   "outputs": [],
   "source": []
  }
 ],
 "metadata": {
  "kernelspec": {
   "display_name": "Python 3",
   "language": "python",
   "name": "python3"
  },
  "language_info": {
   "codemirror_mode": {
    "name": "ipython",
    "version": 3
   },
   "file_extension": ".py",
   "mimetype": "text/x-python",
   "name": "python",
   "nbconvert_exporter": "python",
   "pygments_lexer": "ipython3",
   "version": "3.7.4"
  }
 },
 "nbformat": 4,
 "nbformat_minor": 2
}
