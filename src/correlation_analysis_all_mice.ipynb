{
 "cells": [
  {
   "cell_type": "markdown",
   "metadata": {},
   "source": [
    "# Correlation analysis for all mice : object space task\n",
    "'''\n",
    "Created on Wed 15 Apr 2020'''"
   ]
  },
  {
   "cell_type": "markdown",
   "metadata": {},
   "source": [
    "\n",
    "This Notebook is intended to do the entire correlation matrix analysis \n",
    "for the different trials, object configuration, object exploration.\n",
    "\n",
    "## Importation of libraries and definition of specific data to use"
   ]
  },
  {
   "cell_type": "code",
   "execution_count": 1,
   "metadata": {},
   "outputs": [],
   "source": [
    "import os\n",
    "import numpy as np\n",
    "import matplotlib.pyplot as plt\n",
    "from mpl_toolkits.mplot3d import Axes3D  # noqa: F401 unused import\n",
    "import pickle\n",
    "import configuration\n",
    "import general_statistics as stats\n",
    "import figures as figs\n",
    "import matplotlib.cm as cm\n",
    "from matplotlib import colors\n",
    "from scipy import signal\n",
    "import scipy\n",
    "cmap = cm.jet"
   ]
  },
  {
   "cell_type": "code",
   "execution_count": 2,
   "metadata": {},
   "outputs": [],
   "source": [
    "mouse_vector = [56165, 56166, 32363, 32364, 32365]\n",
    "conditions_vector = ['RANDOM', 'OVERLAPPING','STABLE']\n",
    "sessions_random = [4,1,1,3,2]\n",
    "sessions_overlapping = [1,2,2,1,3]\n",
    "sessions_stable = [2,0,0,2,0]\n",
    "\n",
    "decoding_v = 1            ## decoding version, normaly equal to one\n",
    "motion_correction_v = 100 ### 100 means everything was aligned, 200 means it was also equalized\n",
    "alignment_v = 1           ## alignment version\n",
    "equalization_v = 0        ## equalization version\n",
    "source_extraction_v = 1   ## source extraction version\n",
    "component_evaluation_v = 1 ## component evaluation version\n",
    "registration_v = 1        ## registration version\n",
    "sf = 10                   ## sampling frequency of the original signal \n",
    "re_sf= 20                 ## value of resampling"
   ]
  },
  {
   "cell_type": "code",
   "execution_count": 3,
   "metadata": {},
   "outputs": [],
   "source": [
    "file_directory = os.environ['PROJECT_DIR'] + 'neural_analysis/data/calcium_activity_normed/'\n",
    "timeline_file_dir = os.environ['PROJECT_DIR'] + 'neural_analysis/data/timeline/'\n",
    "behaviour_dir = os.environ['PROJECT_DIR'] + 'calcium_imaging_behaviour/data/scoring_time_vector/'\n",
    "objects_dir= os.environ['PROJECT_DIR'] + 'calcium_imaging_behaviour/data/object_positions/'\n",
    "figure_path = os.environ['PROJECT_DIR'] +'neural_analysis/data/process/figures/correlation/'"
   ]
  },
  {
   "cell_type": "code",
   "execution_count": 5,
   "metadata": {},
   "outputs": [
    {
     "name": "stdout",
     "output_type": "stream",
     "text": [
      "(454, 133956)\n",
      "[['1', 0], ['1_R', 3281], ['2', 6870], ['2_R', 10352], ['3', 13281], ['3_R', 16432], ['4', 19748], ['4_R', 22887], ['5', 25897], ['5_R', 29087], ['6', 32261], ['6_R', 35421], ['7', 38449], ['7_R', 41459], ['8', 44467], ['8_R', 47586], ['9', 50590], ['9_R', 53524], ['10', 56517], ['10_R', 59679], ['11', 62711], ['11_R', 65887], ['12', 68894], ['12_R', 72062], ['13', 75906], ['13_R', 79046], ['14', 82053], ['14_R', 85206], ['15', 88440], ['15_R', 91656], ['16', 94660], ['16_R', 97834], ['17', 100840], ['17_R', 104012], ['18', 107016], ['18_R', 110174], ['19', 113180], ['19_R', 116320], ['20', 119326], ['20_R', 122561], ['21', 125675], ['21_R', 130675], ['1', 133844], ['1_R', 136850], ['2', 140015], ['2_R', 143232], ['3', 146376], ['3_R', 149400], ['4', 152530], ['4_R', 155613], ['5', 158748], ['5_R', 163748], ['6', 166928], ['6_R', 170270], ['7', 173437], ['7_R', 176457], ['8', 179593], ['8_R', 182598], ['9', 185719], ['9_R', 188727], ['10', 191858], ['10_R', 194893], ['11', 198009], ['11_R', 201012], ['12', 204158], ['12_R', 207164], ['13', 210309], ['13_R', 213315], ['14', 216483], ['14_R', 219495], ['15', 222620], ['15_R', 225625], ['16', 228780], ['16_R', 231785], ['17', 234968], ['17_R', 237975], ['18', 241139], ['18_R', 244145], ['19', 247264], ['19_R', 250268], ['20', 253443], ['20_R', 256500], ['21', 261500], ['21_R', 264529], ['1', 267741], ['1_R', 270747], ['2', 273929], ['2_R', 276936], ['3', 280067], ['3_R', 283073], ['4', 286274], ['4_R', 289305], ['5', 292425], ['5_R', 295429], ['6', 298582], ['6_R', 301588], ['7', 304737], ['7_R', 307741], ['8', 310884], ['8_R', 313887], ['9', 317072], ['9_R', 320080], ['10', 323234], ['10_R', 326255], ['11', 329405], ['11_R', 332533], ['12', 335648], ['12_R', 338660], ['13', 341852], ['13_R', 344858], ['14', 347976], ['14_R', 351057], ['15', 354238], ['15_R', 357527], ['16', 360713], ['16_R', 363783], ['17', 366995], ['17_R', 370079], ['18', 373202], ['18_R', 376207], ['19', 379473], ['19_R', 382502], ['20', 385688], ['20_R', 388701], ['21', 393701], ['21_R', 396708]]\n"
     ]
    },
    {
     "ename": "ValueError",
     "evalue": "min() arg is an empty sequence",
     "output_type": "error",
     "traceback": [
      "\u001b[0;31m---------------------------------------------------------------------------\u001b[0m",
      "\u001b[0;31mValueError\u001b[0m                                Traceback (most recent call last)",
      "\u001b[0;32m<ipython-input-5-84c978db9df6>\u001b[0m in \u001b[0;36m<module>\u001b[0;34m\u001b[0m\n\u001b[1;32m     19\u001b[0m     \u001b[0;31m##normalize neural activity\u001b[0m\u001b[0;34m\u001b[0m\u001b[0;34m\u001b[0m\u001b[0;34m\u001b[0m\u001b[0m\n\u001b[1;32m     20\u001b[0m     \u001b[0mprint\u001b[0m\u001b[0;34m(\u001b[0m\u001b[0mtimeline_info\u001b[0m\u001b[0;34m)\u001b[0m\u001b[0;34m\u001b[0m\u001b[0;34m\u001b[0m\u001b[0m\n\u001b[0;32m---> 21\u001b[0;31m     \u001b[0mneural_activity1\u001b[0m\u001b[0;34m,\u001b[0m \u001b[0mtimeline_1\u001b[0m \u001b[0;34m=\u001b[0m \u001b[0mstats\u001b[0m\u001b[0;34m.\u001b[0m\u001b[0mnormalize_neural_activity\u001b[0m\u001b[0;34m(\u001b[0m\u001b[0mactivity\u001b[0m\u001b[0;34m=\u001b[0m\u001b[0mactivity\u001b[0m\u001b[0;34m,\u001b[0m \u001b[0mtimeline\u001b[0m\u001b[0;34m=\u001b[0m\u001b[0mtimeline_info\u001b[0m\u001b[0;34m)\u001b[0m\u001b[0;34m\u001b[0m\u001b[0;34m\u001b[0m\u001b[0m\n\u001b[0m\u001b[1;32m     22\u001b[0m     \u001b[0;31m##downsample neural activity\u001b[0m\u001b[0;34m\u001b[0m\u001b[0;34m\u001b[0m\u001b[0;34m\u001b[0m\u001b[0m\n\u001b[1;32m     23\u001b[0m     \u001b[0mresample_neural_activity_mean\u001b[0m\u001b[0;34m,\u001b[0m \u001b[0mresample_neural_activity_std\u001b[0m \u001b[0;34m=\u001b[0m \u001b[0mstats\u001b[0m\u001b[0;34m.\u001b[0m\u001b[0mresample_matrix\u001b[0m\u001b[0;34m(\u001b[0m\u001b[0mneural_activity\u001b[0m\u001b[0;34m=\u001b[0m\u001b[0mneural_activity1\u001b[0m\u001b[0;34m,\u001b[0m\u001b[0mre_sf\u001b[0m\u001b[0;34m=\u001b[0m\u001b[0mre_sf\u001b[0m\u001b[0;34m)\u001b[0m\u001b[0;34m\u001b[0m\u001b[0;34m\u001b[0m\u001b[0m\n",
      "\u001b[0;32m~/Documents/neural_analysis/src/general_statistics.py\u001b[0m in \u001b[0;36mnormalize_neural_activity\u001b[0;34m(activity, timeline)\u001b[0m\n\u001b[1;32m     27\u001b[0m         \u001b[0;32mfor\u001b[0m \u001b[0mi\u001b[0m \u001b[0;32min\u001b[0m \u001b[0mrange\u001b[0m\u001b[0;34m(\u001b[0m\u001b[0;36m0\u001b[0m\u001b[0;34m,\u001b[0m \u001b[0mlen\u001b[0m\u001b[0;34m(\u001b[0m\u001b[0mtimeline_vector\u001b[0m\u001b[0;34m)\u001b[0m \u001b[0;34m-\u001b[0m \u001b[0;36m1\u001b[0m\u001b[0;34m)\u001b[0m\u001b[0;34m:\u001b[0m\u001b[0;34m\u001b[0m\u001b[0;34m\u001b[0m\u001b[0m\n\u001b[1;32m     28\u001b[0m             \u001b[0mactivity_segment\u001b[0m \u001b[0;34m=\u001b[0m \u001b[0mactivity\u001b[0m\u001b[0;34m[\u001b[0m\u001b[0mj\u001b[0m\u001b[0;34m,\u001b[0m \u001b[0mint\u001b[0m\u001b[0;34m(\u001b[0m\u001b[0mtimeline_vector\u001b[0m\u001b[0;34m[\u001b[0m\u001b[0mi\u001b[0m\u001b[0;34m]\u001b[0m\u001b[0;34m)\u001b[0m\u001b[0;34m:\u001b[0m\u001b[0mint\u001b[0m\u001b[0;34m(\u001b[0m\u001b[0mtimeline_vector\u001b[0m\u001b[0;34m[\u001b[0m\u001b[0mi\u001b[0m \u001b[0;34m+\u001b[0m \u001b[0;36m1\u001b[0m\u001b[0;34m]\u001b[0m\u001b[0;34m)\u001b[0m\u001b[0;34m]\u001b[0m\u001b[0;34m\u001b[0m\u001b[0;34m\u001b[0m\u001b[0m\n\u001b[0;32m---> 29\u001b[0;31m             \u001b[0mactivity_segment\u001b[0m \u001b[0;34m=\u001b[0m \u001b[0mactivity_segment\u001b[0m \u001b[0;34m-\u001b[0m \u001b[0mmin\u001b[0m\u001b[0;34m(\u001b[0m\u001b[0mactivity_segment\u001b[0m\u001b[0;34m)\u001b[0m\u001b[0;34m\u001b[0m\u001b[0;34m\u001b[0m\u001b[0m\n\u001b[0m\u001b[1;32m     30\u001b[0m             \u001b[0;32mif\u001b[0m \u001b[0mmax\u001b[0m\u001b[0;34m(\u001b[0m\u001b[0mactivity_segment\u001b[0m\u001b[0;34m)\u001b[0m\u001b[0;34m:\u001b[0m\u001b[0;34m\u001b[0m\u001b[0;34m\u001b[0m\u001b[0m\n\u001b[1;32m     31\u001b[0m                 \u001b[0mactivity_segment_normalized\u001b[0m \u001b[0;34m=\u001b[0m \u001b[0mactivity_segment\u001b[0m \u001b[0;34m/\u001b[0m \u001b[0mmax\u001b[0m\u001b[0;34m(\u001b[0m\u001b[0mactivity_segment\u001b[0m\u001b[0;34m)\u001b[0m\u001b[0;34m\u001b[0m\u001b[0;34m\u001b[0m\u001b[0m\n",
      "\u001b[0;31mValueError\u001b[0m: min() arg is an empty sequence"
     ]
    }
   ],
   "source": [
    "correlation_matrix = []   ## correlation matrix list that will contain all the correlation matrix of multiple mice\n",
    "mouse_list = []            ## mouse id list\n",
    "for i in range(5):\n",
    "    mouse = mouse_vector[i]\n",
    "    session = sessions_overlapping[i]\n",
    "    \n",
    "    file_name_session_1 = 'mouse_'+ f'{mouse}'+'_session_'+ f'{session}' +'_trial_1_v'+ f'{decoding_v}'+'.4.'+f'{100}'+\\\n",
    "                          '.'+f'{alignment_v}'+'.'+ f'{equalization_v}' +'.' + f'{source_extraction_v}'+'.' + \\\n",
    "                          f'{component_evaluation_v}' +'.'+ f'{registration_v}' + '.npy'\n",
    "    time_file_session_1 =  'mouse_'+ f'{mouse}'+'_session_'+ f'{session}' +'_trial_1_v'+ f'{decoding_v}'+'.4.'+f'{1}'+\\\n",
    "                          '.'+f'{0}'+ '.pkl'\n",
    "    beh_file_name_1 = 'mouse_'+f'{mouse}'+'_session_'+f'{session}'+'_event_'+f'{re_sf}'+'.npy'\n",
    "\n",
    "    ##load activity and timeline\n",
    "    activity = np.load(file_directory + file_name_session_1)\n",
    "    timeline_file= open(timeline_file_dir + time_file_session_1,'rb')\n",
    "    timeline_info = pickle.load(timeline_file)\n",
    "    \n",
    "    timeline_1 = np.zeros(len(timeline_info) + 1)\n",
    "    for i in range(len(timeline_info)):\n",
    "        timeline_1[i] = timeline_info[i][1]\n",
    "    timeline_1[len(timeline)] = activity.shape[1]\n",
    "    ##normalize neural activity\n",
    "    neural_activity1 = activity[1:,:]\n",
    "    #neural_activity1, timeline_1 = stats.normalize_neural_activity(activity=activity, timeline=timeline_info)\n",
    "    ##downsample neural activity\n",
    "    resample_neural_activity_mean, resample_neural_activity_std = stats.resample_matrix(neural_activity=neural_activity1,re_sf=re_sf)\n",
    "    correlation_matrix.append(stats.corr_matrix(neural_activity = resample_neural_activity_mean))\n",
    "    #cov_matrix.append(stats.cov_matrix(neural_activity = resample_neural_activity_mean))\n",
    "    mouse_list.append(str(mouse))\n"
   ]
  },
  {
   "cell_type": "code",
   "execution_count": 6,
   "metadata": {},
   "outputs": [
    {
     "name": "stdout",
     "output_type": "stream",
     "text": [
      "56165\n"
     ]
    }
   ],
   "source": [
    "print(mouse)\n"
   ]
  },
  {
   "cell_type": "code",
   "execution_count": null,
   "metadata": {},
   "outputs": [],
   "source": []
  }
 ],
 "metadata": {
  "kernelspec": {
   "display_name": "Python 3",
   "language": "python",
   "name": "python3"
  },
  "language_info": {
   "codemirror_mode": {
    "name": "ipython",
    "version": 3
   },
   "file_extension": ".py",
   "mimetype": "text/x-python",
   "name": "python",
   "nbconvert_exporter": "python",
   "pygments_lexer": "ipython3",
   "version": "3.7.4"
  }
 },
 "nbformat": 4,
 "nbformat_minor": 2
}
