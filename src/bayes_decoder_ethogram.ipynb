{
 "cells": [
  {
   "cell_type": "markdown",
   "metadata": {},
   "source": [
    "# Naive Bayes decoder for ethogram decoding based on DLC tracking\n",
    "\n",
    "Here we will use scikit-learn Naive Bayes decoder in order to decode animals behaviour from calcium neural traces using as labels DLC tracking information to create an ethogram.\n",
    "\n",
    "We will try to decode and evaluate performance of two different set of states: pre-defined by threshols states corresponding to different behaviours and k-means based ethogram classification based in multiple tracking parameters. Event if kmeans states are not striclty the same states, wi will see whether those states are better clasify by a decoder that uses calcium traces.\n"
   ]
  },
  {
   "cell_type": "code",
   "execution_count": 86,
   "metadata": {},
   "outputs": [],
   "source": [
    "#import useful libraries\n",
    "import os\n",
    "import numpy as np\n",
    "import matplotlib.pyplot as plt\n",
    "from mpl_toolkits.mplot3d import Axes3D  # noqa: F401 unused import\n",
    "import pickle\n",
    "import configuration\n",
    "import general_statistics as stats\n",
    "import figures as figs\n",
    "import matplotlib.cm as cm\n",
    "from matplotlib import colors\n",
    "from scipy import signal\n",
    "from scipy import stats as sstats\n",
    "from sklearn.decomposition import PCA\n",
    "from sklearn.manifold import TSNE\n",
    "import scipy\n",
    "cmap = cm.jet\n",
    "import math"
   ]
  },
  {
   "cell_type": "code",
   "execution_count": null,
   "metadata": {},
   "outputs": [],
   "source": []
  },
  {
   "cell_type": "code",
   "execution_count": 135,
   "metadata": {},
   "outputs": [],
   "source": [
    "# define mouse information, and preprocessin versions from analysis.\n",
    "# load data for all sessions in this mouse and compute mean activity for each neuron.\n",
    "\n",
    "mouse = 32363        ### mouse number id\n",
    "decoding_v = 1            ## decoding version, normaly equal to one\n",
    "motion_correction_v = 20  ### 100 means everything was aligned, 200 means it was also equalized, 20 is for day wise\n",
    "alignment_v = 3           ## alignment version, version 3 is for day wise\n",
    "equalization_v = 0        ## equalization version\n",
    "source_extraction_v = 1   ## source extraction version\n",
    "component_evaluation_v = 1 ## component evaluation version\n",
    "\n",
    "# here we will do analysis with no registration\n",
    "# registration_v = 2        ## registration version\n",
    "sf = 10                   ## sampling frequency of the original signal \n",
    "re_sf= 5                ## value of resampling\n",
    "session_now = 1\n",
    "BINS = 10\n",
    "period = int(1 * sf / re_sf)\n",
    "period_resting = period *10\n",
    "fixed = 'None'\n",
    "## define task for plotting. This will cahnge for other mice!!!!\n",
    "\n",
    "if mouse == 56165 or mouse == 32364:\n",
    "    if mouse == 56165:\n",
    "        sessions = [1,2,4]       ## sessions for this particular mouse\n",
    "    if mouse == 32364:\n",
    "        sessions = [1,2]\n",
    "    if session_now == 1:\n",
    "        task = 'OVERLAPPING'\n",
    "        colapse_behaviour = 1\n",
    "        labels =['Unlabel','Rest1', 'Navigation', 'Obj1' , 'Obj2', 'Run1', 'Run2']\n",
    "        colornames=['k',\"r\",\"deepskyblue\",\"g\",\"blue\",\"g\",\"blue\"]\n",
    "        if mouse == 32364:\n",
    "            fixed = 'LR'\n",
    "            object_fixed = 4\n",
    "            colapse_behaviour = 1\n",
    "            labels =['Unlabel','Rest1', 'Navigation', 'Overlap_object' , 'Moving_object','RunOO' , 'RunMO' ]\n",
    "            colornames=['k',\"r\",\"deepskyblue\",\"g\",\"blue\",\"g\",\"blue\"]   \n",
    "        if mouse == 56165:\n",
    "            fixed = 'UR'\n",
    "            object_fixed = 5\n",
    "            colapse_behaviour = 1\n",
    "            labels =['Unlabel','Rest1', 'Navigation', 'Overlap_object' , 'Moving_object','RunOO' , 'RunMO' ]\n",
    "            colornames=['k',\"r\",\"deepskyblue\",\"g\",\"blue\",\"g\",\"blue\"]   \n",
    "\n",
    "    else:\n",
    "        if session_now == 2:\n",
    "            task = 'STABLE'\n",
    "            colapse_behaviour = 2\n",
    "            labels =['Unlabel','Rest1', 'Navigation', 'Obj1' , 'Obj2', 'Run1', 'Run2']\n",
    "            colornames=['k',\"r\",\"deepskyblue\",\"g\",\"blue\",\"g\",\"blue\"]\n",
    "        else:\n",
    "            task = 'RANDOM'\n",
    "            colapse_behaviour = 0\n",
    "            labels =['Unlabel','Rest1', 'Navigation', 'Obj1' , 'Obj2', 'Run1', 'Run2']\n",
    "            colornames=['k',\"r\",\"deepskyblue\",\"g\",\"blue\",\"g\",\"blue\"]\n",
    "            \n",
    "if mouse == 32365:\n",
    "    sessions = [2,3] ## sessions for this particular mouse\n",
    "    if session_now == 2:\n",
    "        task = 'RANDOM'\n",
    "        colapse_behaviour = 0\n",
    "        labels =['Unlabel','Rest1', 'Navigation', 'Obj1' , 'Obj2', 'Run1', 'Run2']\n",
    "        colornames=['k',\"r\",\"deepskyblue\",\"g\",\"blue\",\"g\",\"blue\"]\n",
    "    else:\n",
    "        if session_now == 3:\n",
    "            task = 'OVERLAPPING'\n",
    "            fixed = 'LR'\n",
    "            object_fixed = 4\n",
    "            colapse_behaviour = 1\n",
    "            labels =['Unlabel','Rest1', 'Navigation', 'Overlap_object' , 'Moving_object','RunOO' , 'RunMO' ]\n",
    "            colornames=['k',\"r\",\"deepskyblue\",\"g\",\"blue\",\"g\",\"blue\"]           \n",
    "            \n",
    "if mouse == 56166:\n",
    "    sessions = [1,2] ## sessions for this particular mouse\n",
    "    if session_now == 1:\n",
    "        task = 'RANDOM'\n",
    "        colapse_behaviour = 0\n",
    "        labels =['Unlabel','Rest1', 'Navigation', 'Obj1' , 'Obj2', 'Run1', 'Run2']\n",
    "        colornames=['k',\"r\",\"deepskyblue\",\"g\",\"blue\",\"g\",\"blue\"]\n",
    "\n",
    "    else:\n",
    "        if session_now == 2:\n",
    "            task = 'OVERLAPPING'\n",
    "            fixed = 'UR'\n",
    "            object_fixed = 5\n",
    "            colapse_behaviour = 1\n",
    "            labels =['Unlabel','Rest1', 'Navigation', 'Overlap_object' , 'Moving_object','RunOO' , 'RunMO' ]\n",
    "            colornames=['k',\"r\",\"deepskyblue\",\"g\",\"blue\",\"g\",\"blue\"]\n",
    "            \n",
    "if mouse == 32366:\n",
    "    sessions = [2,3] ## sessions for this particular mouse\n",
    "    if session_now == 3:\n",
    "        task = 'RANDOM'\n",
    "        colapse_behaviour = 0\n",
    "        labels =['Unlabel','Rest1', 'Navigation', 'Obj1' , 'Obj2', 'Run1', 'Run2']\n",
    "        colornames=['k',\"r\",\"deepskyblue\",\"g\",\"blue\",\"g\",\"blue\"]\n",
    "            \n",
    "if mouse == 32363:\n",
    "    sessions = [1,2] ## sessions for this particular mouse\n",
    "    if session_now == 1:\n",
    "        task = 'RANDOM'\n",
    "        colapse_behaviour = 0\n",
    "        labels =['Unlabel','Rest1', 'Navigation', 'Obj1' , 'Obj2', 'Run1', 'Run2']\n",
    "        colornames=['k',\"r\",\"deepskyblue\",\"g\",\"blue\",\"g\",\"blue\"]\n",
    "    else:\n",
    "        if session_now == 2:\n",
    "            task = 'OVERLAPPING'\n",
    "            fixed = 'UL'\n",
    "            object_fixed = 6\n",
    "            colapse_behaviour = 1\n",
    "            labels =['Unlabel','Rest1', 'Navigation', 'Overlap_object' , 'Moving_object','RunOO' , 'RunMO' ]\n",
    "            colornames=['k',\"r\",\"deepskyblue\",\"g\",\"blue\",\"g\",\"blue\"]"
   ]
  },
  {
   "cell_type": "code",
   "execution_count": 136,
   "metadata": {},
   "outputs": [],
   "source": [
    "file_directory = os.environ['PROJECT_DIR'] + 'neural_analysis/data/calcium_activity_day_wise/'\n",
    "timeline_file_dir = os.environ['PROJECT_DIR'] + 'neural_analysis/data/timeline/'\n",
    "behaviour_dir = os.environ['PROJECT_DIR'] + 'calcium_imaging_behaviour/data/ethogram/' + f'{mouse}' + '/session_' + f'{session_now}' + '/'\n",
    "behaviour_dir_unsup = os.environ['PROJECT_DIR'] + 'calcium_imaging_behaviour/data/ethogram_unsupervised/' + f'{mouse}' + '/session_' + f'{session_now}' + '/'\n",
    "tracking_dir = os.environ['PROJECT_DIR'] + 'calcium_imaging_behaviour/data/center_of_mass/' + f'{mouse}' + '/session_' + f'{session_now}' + '/'\n",
    "objects_dir= os.environ['PROJECT_DIR'] + 'calcium_imaging_behaviour/data/object_positions/'\n",
    "figure_path = os.environ['PROJECT_DIR'] +'neural_analysis/figures/'"
   ]
  },
  {
   "cell_type": "code",
   "execution_count": 137,
   "metadata": {},
   "outputs": [],
   "source": [
    "# define all relevant files names and load them into a list\n",
    "session = session_now\n",
    "\n",
    "activity_list = []\n",
    "timeline_list = []\n",
    "behaviour_list = []\n",
    "behaviour_list_unsup = []\n",
    "tracking_list = []\n",
    "total_time = 0\n",
    "day = 0\n",
    "for trial in [1,6,11,16]:\n",
    "    \n",
    "    beh_file_name_1 = 'mouse_' + f'{mouse}' + '_session_' + f'{session}' + '_day_' + f'{day+1}' + '_likelihood_0.75_ethogram.npy'\n",
    "    ## LOAD BEHAVIOUR\n",
    "    behaviour = np.load(behaviour_dir + beh_file_name_1)\n",
    "    reshape_behaviour = np.reshape(behaviour[:int(int(behaviour.shape[0]/re_sf)*re_sf)],(int(behaviour.shape[0]/re_sf),re_sf))\n",
    "    resample_beh1 = np.reshape(scipy.stats.mode(reshape_behaviour,axis=1)[0],reshape_behaviour.shape[0])\n",
    "    \n",
    "    beh_file_name_1 = 'mouse_' + f'{mouse}' + '_session_' + f'{session}' + '_day_' + f'{day+1}' + '_likelihood_0.75_unsupervised_ethogram.npy'\n",
    "    ## LOAD BEHAVIOUR UNSUPERVISED\n",
    "    behaviour = np.load(behaviour_dir_unsup + beh_file_name_1)\n",
    "    reshape_behaviour = np.reshape(behaviour[:int(int(behaviour.shape[0]/re_sf)*re_sf)],(int(behaviour.shape[0]/re_sf),re_sf))\n",
    "    resample_beh1_unsup = np.reshape(scipy.stats.mode(reshape_behaviour,axis=1)[0],reshape_behaviour.shape[0])\n",
    "    \n",
    "    \n",
    "    ## LOAD TRACKING\n",
    "    tracking_file_name_1 = 'mouse_' + f'{mouse}' + '_session_' + f'{session}' + '_day_' + f'{day+1}' + '_likelihood_0.75.npy'\n",
    "    position = np.load(tracking_dir + tracking_file_name_1)\n",
    "    resample_position, resample_position_stc = stats.resample_matrix(neural_activity=position.T,\n",
    "                                                                                        re_sf=re_sf)\n",
    "    ## LOAD TIMELINE\n",
    "    time_file_session_1 =  'mouse_'+ f'{mouse}'+'_session_'+ f'{session}' +'_trial_'+ f'{trial}'+'_v1.3.1.0_10.pkl'\n",
    "\n",
    "    timeline_file= open(timeline_file_dir + time_file_session_1,'rb')\n",
    "    timeline_info = pickle.load(timeline_file)\n",
    "    timeline_1 = np.zeros(len(timeline_info) + 1)\n",
    "    for i in range(len(timeline_info)):\n",
    "        timeline_1[i] = timeline_info[i][1]\n",
    "    timeline_1[len(timeline_info)] = behaviour.shape[0]\n",
    "    timeline = timeline_1/re_sf\n",
    "    time_lenght = 10\n",
    "    resample_timeline = timeline_1/re_sf\n",
    "    timeline_list.append(resample_timeline)\n",
    "    \n",
    "    behaviour_list.append(resample_beh1)\n",
    "    behaviour_list_unsup.append(resample_beh1_unsup)\n",
    "    tracking_list.append(resample_position)\n",
    "    total_time = total_time + behaviour.shape[0]\n",
    "    \n",
    "    \n",
    "    file_name_session_1 = 'mouse_' + f'{mouse}' + '_session_' + f'{session}' + '_trial_'+ f'{trial}'+'_v' + f'{decoding_v}' + '.4.' + f'{motion_correction_v}' + \\\n",
    "                          '.' + f'{alignment_v}' + '.' + f'{equalization_v}' + '.' + f'{source_extraction_v}' + '.' + \\\n",
    "                          f'{component_evaluation_v}' +  '.0.npy'\n",
    "\n",
    "    ##load activity and timeline\n",
    "    activity = np.load(file_directory + file_name_session_1)\n",
    "    neural_activity1 = activity[1:,:]\n",
    "    ## z-score neural activity\n",
    "    neural_activity = neural_activity1\n",
    "    ##downsample neural activity\n",
    "    resample_neural_activity_mean, resample_neural_activity_std = stats.resample_matrix(neural_activity=neural_activity,\n",
    "                                                                                        re_sf=re_sf)\n",
    "    \n",
    "    activity_list.append(resample_neural_activity_mean)\n",
    "    \n",
    "    day = day + 1"
   ]
  },
  {
   "cell_type": "code",
   "execution_count": 138,
   "metadata": {},
   "outputs": [],
   "source": [
    "## define targets of behaviour according to protocol (random, overlapping and stable)\n",
    "\n",
    "id_target = [0,1,2,3,4,5,6] # 0: unlabeled, 1:resting, 2:Navigation, 3: Obj1, 4:Obj2, 5:Run1, 6:Run2\n",
    "\n",
    "if colapse_behaviour == 0 : # RANDOM\n",
    "    for day in range(len(behaviour_list)):\n",
    "        for trial in range(5):\n",
    "            behaviour_trial = behaviour_list[day][int(timeline_list[day][2*trial]):int(timeline_list[day][2*trial+1])]\n",
    "            objects = np.unique(behaviour_trial)\n",
    "            selected_object = np.random.randint(len(objects)-4,len(objects)-2,1)\n",
    "            index0 = np.where(behaviour_trial==objects[selected_object])[0]\n",
    "            index1 = np.where(np.logical_and(behaviour_trial==objects[len(objects)-4], behaviour_trial!=objects[selected_object]))\n",
    "            index2 = np.where(np.logical_and(behaviour_trial==objects[len(objects)-3], behaviour_trial!=objects[selected_object]))\n",
    "            behaviour_trial[index0] = 3\n",
    "            behaviour_trial[index1] = 4\n",
    "            behaviour_trial[index2] = 4            \n",
    "            \n",
    "            index0 = np.where(behaviour_trial==objects[selected_object]+4)[0]\n",
    "            index1 = np.where(np.logical_and(behaviour_trial==objects[len(objects)-2], behaviour_trial!=objects[selected_object]+4))\n",
    "            index2 = np.where(np.logical_and(behaviour_trial==objects[len(objects)-1], behaviour_trial!=objects[selected_object]+4))\n",
    "            behaviour_trial[index0] = 5\n",
    "            behaviour_trial[index1] = 6\n",
    "            behaviour_trial[index2] = 6 \n",
    "            \n",
    "            behaviour_list[day][int(timeline_list[day][2*trial]):int(timeline_list[day][2*trial+1])] = behaviour_trial\n",
    "\n",
    "\n",
    "if colapse_behaviour == 1 : #OVERLAPPING\n",
    "    for day in range(len(behaviour_list)):\n",
    "        behaviour_list[day][np.where(behaviour_list[day] == object_fixed)[0]] = 100\n",
    "        behaviour_list[day][np.where(np.logical_and(behaviour_list[day]>=3, behaviour_list[day]<=6))[0]] = 4\n",
    "        behaviour_list[day][np.where(behaviour_list[day] == 100)[0]] = 3        \n",
    "        behaviour_list[day][np.where(behaviour_list[day] == object_fixed +4)[0]] = 200        \n",
    "        behaviour_list[day][np.where(np.logical_and(behaviour_list[day]>=7, behaviour_list[day]<=10))[0]] = 6\n",
    "        behaviour_list[day][np.where(behaviour_list[day] == 200)[0]] = 5        \n",
    "\n",
    "\n",
    "if colapse_behaviour == 2: #STABLE\n",
    "    for day in range(len(behaviour_list)):\n",
    "        objects = np.unique(behaviour_list[day])\n",
    "        selected_object = np.random.randint(len(objects)-4,len(objects)-2,1)\n",
    "        index0 = np.where(behaviour_list[day]==objects[selected_object])[0]\n",
    "        index1 = np.where(np.logical_and(behaviour_list[day]==objects[len(objects)-4], behaviour_list[day]!=objects[selected_object]))\n",
    "        index2 = np.where(np.logical_and(behaviour_list[day]==objects[len(objects)-3], behaviour_list[day]!=objects[selected_object]))\n",
    "        behaviour_list[day][index0] = 3\n",
    "        behaviour_list[day][index1] = 4\n",
    "        behaviour_list[day][index2] = 4      \n",
    "    \n",
    "        index0 = np.where(behaviour_list[day]==objects[selected_object]+4)[0]\n",
    "        index1 = np.where(np.logical_and(behaviour_list[day]==objects[len(objects)-2], behaviour_list[day]!=objects[selected_object]+4))\n",
    "        index2 = np.where(np.logical_and(behaviour_list[day]==objects[len(objects)-1], behaviour_list[day]!=objects[selected_object]+4))\n",
    "        behaviour_list[day][index0] = 5\n",
    "        behaviour_list[day][index1] = 6\n",
    "        behaviour_list[day][index2] = 6  "
   ]
  },
  {
   "cell_type": "code",
   "execution_count": null,
   "metadata": {},
   "outputs": [],
   "source": []
  },
  {
   "cell_type": "markdown",
   "metadata": {},
   "source": [
    "## Naive Bayes from SciKit-Learn for ethogram classification"
   ]
  },
  {
   "cell_type": "code",
   "execution_count": 139,
   "metadata": {},
   "outputs": [],
   "source": [
    "def speed_selection(tracking = None, speed_limit = 3):\n",
    "    \n",
    "    x = tracking[0,:]\n",
    "    y = tracking[1,:]\n",
    "    vx = np.diff(x)\n",
    "    vy = np.diff(y)\n",
    "    speed = np.sqrt(vx*vx+vy*vy)\n",
    "    index = np.where(speed > speed_limit)[0]\n",
    "    \n",
    "    return index\n",
    "\n",
    "def binned_tracking(tracking = None, binnumber = 70):\n",
    "    \n",
    "    xpos = [int(tracking[0,i]) for i in range(tracking.shape[1])]\n",
    "    ypos = [int(tracking[1,i]) for i in range(tracking.shape[1])]\n",
    "    \n",
    "    \n",
    "    xdenom = int(np.max(xpos)/binnumber+1)\n",
    "    ydenom = int(np.max(ypos)/binnumber+1)\n",
    "    \n",
    "    xnew = [int(xpos[i]/xdenom) for i in range(tracking.shape[1])]\n",
    "    ynew = [int(ypos[i]/xdenom) for i in range(tracking.shape[1])]\n",
    "    \n",
    "    return xnew,ynew"
   ]
  },
  {
   "cell_type": "code",
   "execution_count": 140,
   "metadata": {},
   "outputs": [
    {
     "name": "stdout",
     "output_type": "stream",
     "text": [
      "(1883, 104)\n"
     ]
    },
    {
     "data": {
      "image/png": "[encoded data removed]",
      "text/plain": [
       "<Figure size 432x288 with 1 Axes>"
      ]
     },
     "metadata": {
      "needs_background": "light"
     },
     "output_type": "display_data"
    }
   ],
   "source": [
    "from sklearn.datasets import load_iris\n",
    "from sklearn.model_selection import train_test_split\n",
    "from sklearn.naive_bayes import GaussianNB\n",
    "from sklearn.metrics import confusion_matrix\n",
    "day = 0\n",
    "FR_limit = 12\n",
    "\n",
    "index = speed_selection(tracking_list[day], speed_limit = 3)\n",
    "tracking = tracking_list[day][:,index]\n",
    "ypre = np.array(binned_tracking(tracking = tracking, binnumber = BINS )).T\n",
    "binsx = ypre[np.where(np.logical_and(ypre[:,0]>0,ypre[:,1]>0))[0],0]\n",
    "binsy = ypre[np.where(np.logical_and(ypre[:,0]>0,ypre[:,1]>0))[0],1]\n",
    "\n",
    "ybehaviour = behaviour_list[day][np.where(np.logical_and(ypre[:,0]>0,ypre[:,1]>0))[0]]\n",
    "ybehaviour_unsup = behaviour_list_unsup[day][np.where(np.logical_and(ypre[:,0]>0,ypre[:,1]>0))[0]]\n",
    "\n",
    "Xpre = activity_list[day].T\n",
    "Xpre = Xpre[np.where(np.logical_and(ypre[:,0]>0,ypre[:,1]>0))[0],:]\n",
    "firing_rate = np.mean(Xpre,axis = 0)*10\n",
    "selected_cells = np.where(firing_rate < FR_limit)[0]\n",
    "X = Xpre[:,selected_cells]\n",
    "#X = X.astype(int)\n",
    "\n",
    "plt.hist(firing_rate)\n",
    "print(X.shape)"
   ]
  },
  {
   "cell_type": "code",
   "execution_count": 141,
   "metadata": {},
   "outputs": [
    {
     "name": "stdout",
     "output_type": "stream",
     "text": [
      "Number of mislabeled points out of a total 189 points : 92\n"
     ]
    }
   ],
   "source": [
    "X_train, X_test, y_train, y_test = train_test_split(X, ybehaviour, test_size=0.1, random_state=0)\n",
    "gnb = GaussianNB()\n",
    "y_pred = gnb.fit(X_train, y_train).predict(X_test)\n",
    "print(\"Number of mislabeled points out of a total %d points : %d\" % (X_test.shape[0], (y_test != y_pred).sum()))\n",
    "conf_sup = confusion_matrix(y_test,y_pred)"
   ]
  },
  {
   "cell_type": "code",
   "execution_count": 142,
   "metadata": {},
   "outputs": [
    {
     "name": "stdout",
     "output_type": "stream",
     "text": [
      "Number of mislabeled points out of a total 189 points : 88\n"
     ]
    }
   ],
   "source": [
    "X_train, X_test, y_train, y_test = train_test_split(X, ybehaviour_unsup, test_size=0.1, random_state=0)\n",
    "gnb = GaussianNB()\n",
    "y_pred = gnb.fit(X_train, y_train).predict(X_test)\n",
    "print(\"Number of mislabeled points out of a total %d points : %d\" % (X_test.shape[0], (y_test != y_pred).sum()))\n",
    "conf_unsup = confusion_matrix(y_test,y_pred)"
   ]
  },
  {
   "cell_type": "code",
   "execution_count": 143,
   "metadata": {},
   "outputs": [
    {
     "data": {
      "text/plain": [
       "<matplotlib.colorbar.Colorbar at 0x7f8cb8e9c9d0>"
      ]
     },
     "execution_count": 143,
     "metadata": {},
     "output_type": "execute_result"
    },
    {
     "data": {
      "image/png": "[encoded data removed]",
      "text/plain": [
       "<Figure size 720x720 with 4 Axes>"
      ]
     },
     "metadata": {
      "needs_background": "light"
     },
     "output_type": "display_data"
    }
   ],
   "source": [
    "figure = plt.figure(figsize=(10, 10))\n",
    "gs = figure.add_gridspec(1, 2)\n",
    "axes0 = figure.add_subplot(gs[0,0])\n",
    "axes1 = figure.add_subplot(gs[0,1])\n",
    "\n",
    "pos0 = axes0.imshow(conf_sup, cmap = 'jet')\n",
    "axes0.set_title('confusion Supervised')\n",
    "figure.colorbar(pos0, ax=axes0)\n",
    "pos1 = axes1.imshow(conf_unsup, cmap = 'jet')\n",
    "axes1.set_title('confusion Unsupervised')\n",
    "figure.colorbar(pos1, ax=axes1)"
   ]
  },
  {
   "cell_type": "markdown",
   "metadata": {},
   "source": [
    "### Naive Bayes for ETHOGRAM in a trial by trial basis"
   ]
  },
  {
   "cell_type": "code",
   "execution_count": 144,
   "metadata": {},
   "outputs": [],
   "source": [
    "day = 0\n",
    "FR_limit = 15\n",
    "\n",
    "X = []\n",
    "y = []\n",
    "X_shuffle = []\n",
    "ypre_list = []\n",
    "\n",
    "ybehaviour_list = []\n",
    "ybehaviour_unsup_list=[]\n",
    "for day in range(4):\n",
    "    for trial in range(5):\n",
    "        time0 = int(timeline_list[day][trial*2])\n",
    "        time1 = int(timeline_list[day][trial*2+1])\n",
    "\n",
    "        tracking_trial = tracking_list[day][:,time0:time1]\n",
    "        index = speed_selection(tracking_trial, speed_limit = 3)\n",
    "\n",
    "        tracking = tracking_trial[:,index]\n",
    "        ypre = np.array(binned_tracking(tracking = tracking, binnumber = BINS )).T\n",
    "\n",
    "        behaviour_trial = behaviour_list[day][time0:time1]\n",
    "        ybehaviour = behaviour_trial[np.where(np.logical_and(ypre[:,0]>0,ypre[:,1]>0))[0]]\n",
    "        behaviour_trial_unsup = behaviour_list_unsup[day][time0:time1]\n",
    "        ybehaviour_unsup = behaviour_trial_unsup[np.where(np.logical_and(ypre[:,0]>0,ypre[:,1]>0))[0]]\n",
    "        ybehaviour_list.append(ybehaviour)\n",
    "        ybehaviour_unsup_list.append(ybehaviour_unsup)\n",
    "        \n",
    "        Xpre = activity_list[day][:,time0:time1].T\n",
    "        Xpre = Xpre[np.where(np.logical_and(ypre[:,0]>0,ypre[:,1]>0))[0],:]\n",
    "        firing_rate = np.mean(Xpre,axis = 0)*10\n",
    "        selected_cells = np.where(firing_rate < FR_limit)[0]\n",
    "        X_decode = Xpre[:,selected_cells]\n",
    "        X.append(X_decode.copy())\n",
    "        np.random.shuffle(X_decode)\n",
    "        X_shuffle.append(X_decode)\n"
   ]
  },
  {
   "cell_type": "code",
   "execution_count": 145,
   "metadata": {},
   "outputs": [],
   "source": [
    "y_test_list = []\n",
    "y_pred_list = []\n",
    "y_pred_list_shuffle = []\n",
    "y_test_list_shuffle = []\n",
    "y_pred_list_unsup = []\n",
    "y_test_list_unsup = []\n",
    "\n",
    "error = []\n",
    "error_unsup = []\n",
    "error_shuffle = []\n",
    "\n",
    "for trial in range(5*4): \n",
    "    \n",
    "    X_train, X_test, y_train, y_test = train_test_split(X[trial], ybehaviour_list[trial], test_size=0.1, random_state=0)\n",
    "    gnb = GaussianNB()\n",
    "    y_pred = gnb.fit(X_train, y_train).predict(X_test)\n",
    "    y_test_list.append(y_test)\n",
    "    y_pred_list.append(y_pred)\n",
    "    error.append((y_test != y_pred).sum()/X_test.shape[0])\n",
    "    \n",
    "    X_train, X_test, y_train, y_test = train_test_split(X[trial], ybehaviour_unsup_list[trial], test_size=0.1, random_state=0)\n",
    "    y_pred_unsup = gnb.fit(X_train, y_train).predict(X_test)\n",
    "    y_test_list_unsup.append(y_test)\n",
    "    y_pred_list_unsup.append(y_pred_unsup)\n",
    "    error_unsup.append((y_test != y_pred_unsup).sum()/X_test.shape[0])\n",
    "    \n",
    "    X_train_shuffle , X_test_shuffle , y_train_shuffle, y_test_shuffle = train_test_split(X_shuffle[trial], ybehaviour_list[trial], test_size=0.1, random_state=0)\n",
    "    y_pred_shuffle = gnb.fit(X_train_shuffle, y_train_shuffle).predict(X_test_shuffle)\n",
    "    y_test_list_shuffle.append(y_test_shuffle)\n",
    "    y_pred_list_shuffle.append(y_pred_shuffle)\n",
    "    error_shuffle.append((y_test != y_pred).sum()/X_test.shape[0])\n"
   ]
  },
  {
   "cell_type": "code",
   "execution_count": 146,
   "metadata": {},
   "outputs": [
    {
     "data": {
      "text/plain": [
       "<matplotlib.collections.LineCollection at 0x7f8cb8df4c10>"
      ]
     },
     "execution_count": 146,
     "metadata": {},
     "output_type": "execute_result"
    },
    {
     "data": {
      "image/png": "[encoded data removed]",
      "text/plain": [
       "<Figure size 432x288 with 1 Axes>"
      ]
     },
     "metadata": {
      "needs_background": "light"
     },
     "output_type": "display_data"
    }
   ],
   "source": [
    "figure, axes = plt.subplots(1)\n",
    "\n",
    "axes.plot(np.arange(1,len(error)+1),error)\n",
    "axes.plot(np.arange(1,len(error)+1),error_unsup)\n",
    "axes.plot(np.arange(1,len(error)+1),error_shuffle)\n",
    "\n",
    "axes.legend(['DecodedError','DecodedError_Unsupervised', 'DecodedError_shuffling'])\n",
    "axes.set_xlabel('Trial number', fontsize = 15)\n",
    "axes.set_ylabel('Fraction', fontsize = 15)\n",
    "axes.set_ylim([0,1])\n",
    "\n",
    "plt.vlines(1, 0, 1, colors='k', linestyles='-')\n",
    "plt.vlines(6, 0, 1, colors='k', linestyles='-')\n",
    "plt.vlines(11, 0, 1, colors='k', linestyles='-')\n",
    "plt.vlines(16, 0, 1, colors='k', linestyles='-')\n",
    "plt.vlines(21, 0, 1, colors='k', linestyles='-')\n",
    "plt.hlines(1/7, 0, 21, colors='b', linestyles='--') "
   ]
  },
  {
   "cell_type": "code",
   "execution_count": null,
   "metadata": {},
   "outputs": [],
   "source": []
  },
  {
   "cell_type": "code",
   "execution_count": null,
   "metadata": {},
   "outputs": [],
   "source": []
  }
 ],
 "metadata": {
  "kernelspec": {
   "display_name": "Python 3",
   "language": "python",
   "name": "python3"
  },
  "language_info": {
   "codemirror_mode": {
    "name": "ipython",
    "version": 3
   },
   "file_extension": ".py",
   "mimetype": "text/x-python",
   "name": "python",
   "nbconvert_exporter": "python",
   "pygments_lexer": "ipython3",
   "version": "3.7.4"
  }
 },
 "nbformat": 4,
 "nbformat_minor": 4
}
