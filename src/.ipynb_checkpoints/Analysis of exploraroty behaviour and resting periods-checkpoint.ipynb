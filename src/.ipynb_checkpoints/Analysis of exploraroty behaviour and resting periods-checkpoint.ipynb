{
 "cells": [
  {
   "cell_type": "markdown",
   "metadata": {},
   "source": [
    "# Analysis of exploraroty behaviour and resting periods\n",
    "\n",
    "''' Created on Fri 05 Jun 2020'''\n",
    "\n",
    "\n",
    "In this notebook we will analyze periods of exploratory behaviour wothout taking into account the object that is being explore. We will take the first 6 seconds of exploration (because we are currently using a re sampling of 20 frames that gives us 2s bins, just to use a multipler), if posible some segment in the middle and the resting periods."
   ]
  },
  {
   "cell_type": "code",
   "execution_count": 1,
   "metadata": {},
   "outputs": [],
   "source": [
    "#import useful libraries\n",
    "import os\n",
    "import numpy as np\n",
    "import matplotlib.pyplot as plt\n",
    "from mpl_toolkits.mplot3d import Axes3D  # noqa: F401 unused import\n",
    "import pickle\n",
    "import configuration\n",
    "import general_statistics as stats\n",
    "import figures as figs\n",
    "import matplotlib.cm as cm\n",
    "from matplotlib import colors\n",
    "from scipy import signal\n",
    "import scipy\n",
    "cmap = cm.jet"
   ]
  },
  {
   "cell_type": "code",
   "execution_count": 2,
   "metadata": {},
   "outputs": [],
   "source": [
    "# define mouse information, and preprocessin versions from analysis.\n",
    "# load data for all sessions in this mouse and compute mean activity for each neuron.\n",
    "\n",
    "mouse = 56165           ### mouse number id\n",
    "decoding_v = 1            ## decoding version, normaly equal to one\n",
    "motion_correction_v = 100 ### 100 means everything was aligned, 200 means it was also equalized\n",
    "alignment_v = 1           ## alignment version\n",
    "equalization_v = 0        ## equalization version\n",
    "source_extraction_v = 1   ## source extraction version\n",
    "component_evaluation_v = 1 ## component evaluation version\n",
    "registration_v = 2        ## registration version\n",
    "sf = 10                   ## sampling frequency of the original signal \n",
    "re_sf= 10                 ## value of resampling\n",
    "\n",
    "session_now = 1 \n",
    "fixed = 'None'\n",
    "## define task for plotting. This will cahnge for other mice!!!!\n",
    "if mouse == 56165 or mouse == 32364:\n",
    "    if mouse == 56165:\n",
    "        sessions = [1,2,4]       ## sessions for this particular mouse\n",
    "    if mouse == 32364:\n",
    "        sessions = [1,2]\n",
    "    if session_now == 1:\n",
    "        task = 'OVERLAPPING'\n",
    "        if mouse == 32364:\n",
    "            fixed = 'LR'\n",
    "        if mouse == 56165:\n",
    "            fixed = 'UR'\n",
    "    else:\n",
    "        if session_now == 2:\n",
    "            task = 'STABLE'\n",
    "        else:\n",
    "            task = 'RANDOM'\n",
    "            \n",
    "if mouse == 32365:\n",
    "    sessions = [2,3] ## sessions for this particular mouse\n",
    "    if session_now == 2:\n",
    "        task = 'RANDOM'\n",
    "    else:\n",
    "        if session_now == 3:\n",
    "            task = 'OVERLAPPING'\n",
    "            fixed = 'LR'\n",
    "            \n",
    "if mouse == 56166:\n",
    "    sessions = [1,2] ## sessions for this particular mouse\n",
    "    if session_now == 1:\n",
    "        task = 'RANDOM'\n",
    "    else:\n",
    "        if session_now == 2:\n",
    "            task = 'OVERLAPPING'\n",
    "            fixed = 'UL'\n",
    "            \n",
    "if mouse == 32366:\n",
    "    sessions = [3,3] ## sessions for this particular mouse\n",
    "    if session_now == 3:\n",
    "        task = 'RANDOM'\n",
    "            \n",
    "if mouse == 32363:\n",
    "    sessions = [1,2] ## sessions for this particular mouse\n",
    "    if session_now == 1:\n",
    "        task = 'RANDOM'\n",
    "    else:\n",
    "        if session_now == 2:\n",
    "            task = 'OVERLAPPING'\n",
    "            fixed = 'UL'"
   ]
  },
  {
   "cell_type": "code",
   "execution_count": 3,
   "metadata": {},
   "outputs": [],
   "source": [
    "file_directory = os.environ['PROJECT_DIR'] + 'neural_analysis/data/calcium_activity_normed/'\n",
    "timeline_file_dir = os.environ['PROJECT_DIR'] + 'neural_analysis/data/timeline/'\n",
    "behaviour_dir = os.environ['PROJECT_DIR'] + 'calcium_imaging_behaviour/data/scoring_time_vector/'\n",
    "objects_dir= os.environ['PROJECT_DIR'] + 'calcium_imaging_behaviour/data/object_positions/'\n",
    "figure_path = os.environ['PROJECT_DIR'] +'neural_analysis/data/process/figures/exploration_analysis/'"
   ]
  },
  {
   "cell_type": "code",
   "execution_count": 4,
   "metadata": {},
   "outputs": [],
   "source": [
    "# define all relevant files names\n",
    "session = session_now\n",
    "file_name_session_1 = 'mouse_' + f'{mouse}' + '_session_' + f'{session}' + '_trial_1_v' + f'{decoding_v}' + '.4.' + f'{100}' + \\\n",
    "                      '.' + f'{alignment_v}' + '.' + f'{equalization_v}' + '.' + f'{source_extraction_v}' + '.' + \\\n",
    "                      f'{component_evaluation_v}' + '.' + f'{registration_v}' + '.npy'\n",
    "time_file_session_1 = 'mouse_' + f'{mouse}' + '_session_' + f'{session}' + '_trial_1_v' + f'{decoding_v}' + '.4.' + f'{1}' + \\\n",
    "                      '.' + f'{0}' + '.pkl'\n",
    "beh_file_name_1 = 'mouse_' + f'{mouse}' + '_session_' + f'{session}' + '_event_' + f'{re_sf}' + '.npy'"
   ]
  },
  {
   "cell_type": "code",
   "execution_count": 5,
   "metadata": {},
   "outputs": [],
   "source": [
    "##load activity and timeline\n",
    "activity = np.load(file_directory + file_name_session_1)\n",
    "timeline_file = open(timeline_file_dir + time_file_session_1, 'rb')\n",
    "timeline_info = pickle.load(timeline_file)\n",
    "##normalize neural activity\n",
    "timeline_1 = np.zeros(len(timeline_info) + 1)\n",
    "for i in range(len(timeline_info)):\n",
    "    timeline_1[i] = timeline_info[i][1]\n",
    "timeline_1[len(timeline_info)] = activity.shape[1]\n",
    "neural_activity1 = activity[1:,:]\n",
    "##downsample neural activity\n",
    "resample_neural_activity_mean, resample_neural_activity_std = stats.resample_matrix(neural_activity=neural_activity1,\n",
    "                                                                                    re_sf=re_sf)\n",
    "## LOAD BEHAVIOUR\n",
    "behaviour = np.load(behaviour_dir + beh_file_name_1)\n",
    "#c = np.linspace(0, 20, len(behaviour))\n",
    "reshape_behaviour = np.reshape(behaviour[:int(int(behaviour.shape[0]/re_sf)*re_sf)],(int(behaviour.shape[0]/re_sf),re_sf))\n",
    "resample_beh1 = np.reshape(scipy.stats.mode(reshape_behaviour,axis=1)[0],reshape_behaviour.shape[0])\n",
    "resample_timeline = timeline_1/re_sf"
   ]
  },
  {
   "cell_type": "code",
   "execution_count": 6,
   "metadata": {},
   "outputs": [
    {
     "data": {
      "text/plain": [
       "[<matplotlib.lines.Line2D at 0x7f69b516a950>]"
      ]
     },
     "execution_count": 6,
     "metadata": {},
     "output_type": "execute_result"
    },
    {
     "data": {
      "image/png": "[encoded data removed]",
      "text/plain": [
       "<Figure size 432x288 with 1 Axes>"
      ]
     },
     "metadata": {
      "needs_background": "light"
     },
     "output_type": "display_data"
    }
   ],
   "source": [
    "plt.plot(resample_beh1)"
   ]
  },
  {
   "cell_type": "code",
   "execution_count": 7,
   "metadata": {},
   "outputs": [],
   "source": [
    "events_list = []\n",
    "events_counter_list = []\n",
    "events_time_starts = []\n",
    "start_counter = 100\n",
    "counter = 0\n",
    "for i in range(resample_beh1.shape[0]):\n",
    "    if resample_beh1[i] != start_counter:\n",
    "        events_list.append(start_counter)\n",
    "        events_counter_list.append(counter)\n",
    "        events_time_starts.append(i)\n",
    "        start_counter = resample_beh1[i]\n",
    "        counter = 1\n",
    "    else:\n",
    "        counter = counter + 1"
   ]
  },
  {
   "cell_type": "code",
   "execution_count": 27,
   "metadata": {},
   "outputs": [
    {
     "data": {
      "text/plain": [
       "60"
      ]
     },
     "execution_count": 27,
     "metadata": {},
     "output_type": "execute_result"
    }
   ],
   "source": [
    "period = 10\n",
    "events = np.array(events_list)\n",
    "events_counter = np.array(events_counter_list)\n",
    "events_time = np.array(events_time_starts)\n",
    "\n",
    "resting_activity = []\n",
    "target = 0\n",
    "position_events = np.where(events == target)[0]\n",
    "events_duration = events_counter[position_events]   # convert to seconds\n",
    "i = 0\n",
    "for event in events_duration:\n",
    "    if event > period:\n",
    "        resting_activity.append(resample_neural_activity_mean[:,events_time[i]:events_time[i]+period])\n",
    "    i = i + 1\n",
    "\n",
    "nonexploring_activity = []\n",
    "target = 1\n",
    "position_events = np.where(events == target)[0]\n",
    "events_duration = events_counter[position_events]\n",
    "i = 0\n",
    "for event in events_duration:\n",
    "    if event > period:\n",
    "        nonexploring_activity.append(resample_neural_activity_mean[:,events_time[i]:events_time[i]+period])\n",
    "    i = i+1\n",
    "    \n",
    "exploring_activity = []\n",
    "for target in [2,3,4,5]:\n",
    "    position_events = np.where(events == target)[0]\n",
    "    events_duration = events_counter[position_events]\n",
    "    i = 0\n",
    "    for event in events_duration:\n",
    "        if event > period:\n",
    "            exploring_activity.append(resample_neural_activity_mean[:,events_time[i]:events_time[i]+period])\n",
    "    i = i+1"
   ]
  },
  {
   "cell_type": "code",
   "execution_count": 26,
   "metadata": {},
   "outputs": [],
   "source": [
    "\n",
    "mean_over_trials = np.mean(resting_activity, axis= 0)\n",
    "mean_firing_rate = np.mean(mean_over_trials, axis = 1)\n",
    "positions = np.flip(np.argsort(mean_firing_rate))\n",
    "resting = mean_over_trials[positions,:]\n",
    "\n",
    "mean_over_trials = np.mean(nonexploring_activity, axis= 0)\n",
    "mean_firing_rate = np.mean(mean_over_trials, axis = 1)\n",
    "positions = np.flip(np.argsort(mean_firing_rate))\n",
    "nonexploring = mean_over_trials[positions,:]\n",
    "\n",
    "mean_over_trials = np.mean(exploring_activity, axis= 0)\n",
    "mean_firing_rate = np.mean(mean_over_trials, axis = 1)\n",
    "positions = np.flip(np.argsort(mean_firing_rate))\n",
    "exploring = mean_over_trials[positions,:]\n",
    "\n",
    "\n"
   ]
  },
  {
   "cell_type": "code",
   "execution_count": null,
   "metadata": {},
   "outputs": [],
   "source": []
  },
  {
   "cell_type": "code",
   "execution_count": 23,
   "metadata": {},
   "outputs": [],
   "source": [
    "all_data = np.zeros([resample_neural_activity_mean.shape[0],period*3])\n",
    "\n",
    "mean_over_trials = np.mean(resting_activity, axis= 0)\n",
    "mean_firing_rate = np.mean(mean_over_trials, axis = 1)\n",
    "positions = np.flip(np.argsort(mean_firing_rate))\n",
    "all_data[:,0:period] = mean_over_trials[positions,:]\n",
    "\n",
    "mean_over_trials = np.mean(nonexploring_activity, axis= 0)\n",
    "mean_firing_rate = np.mean(mean_over_trials, axis = 1)\n",
    "positions = np.flip(np.argsort(mean_firing_rate))\n",
    "all_data[:,period:2*period] = mean_over_trials[positions,:]\n",
    "\n",
    "len(exploring_activity)\n",
    "mean_over_trials = np.mean(exploring_activity, axis= 0)\n",
    "mean_firing_rate = np.mean(mean_over_trials, axis = 1)\n",
    "positions = np.flip(np.argsort(mean_firing_rate))\n",
    "all_data[:,2*period:3*period] = mean_over_trials[positions,:]\n"
   ]
  },
  {
   "cell_type": "code",
   "execution_count": 24,
   "metadata": {},
   "outputs": [
    {
     "data": {
      "image/png": "[encoded data removed]",
      "text/plain": [
       "<Figure size 3600x3600 with 1 Axes>"
      ]
     },
     "metadata": {
      "needs_background": "light"
     },
     "output_type": "display_data"
    }
   ],
   "source": [
    "figure, axes = plt.subplots(1)\n",
    "axes.imshow(all_data)\n",
    "figure.set_size_inches(50,50)"
   ]
  },
  {
   "cell_type": "code",
   "execution_count": 66,
   "metadata": {},
   "outputs": [
    {
     "data": {
      "text/plain": [
       "10"
      ]
     },
     "execution_count": 66,
     "metadata": {},
     "output_type": "execute_result"
    }
   ],
   "source": [
    "\n"
   ]
  },
  {
   "cell_type": "code",
   "execution_count": null,
   "metadata": {},
   "outputs": [],
   "source": []
  }
 ],
 "metadata": {
  "kernelspec": {
   "display_name": "Python 3",
   "language": "python",
   "name": "python3"
  },
  "language_info": {
   "codemirror_mode": {
    "name": "ipython",
    "version": 3
   },
   "file_extension": ".py",
   "mimetype": "text/x-python",
   "name": "python",
   "nbconvert_exporter": "python",
   "pygments_lexer": "ipython3",
   "version": "3.7.4"
  }
 },
 "nbformat": 4,
 "nbformat_minor": 2
}
