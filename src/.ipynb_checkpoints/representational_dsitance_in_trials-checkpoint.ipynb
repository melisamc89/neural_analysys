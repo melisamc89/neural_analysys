{
 "cells": [
  {
   "cell_type": "code",
   "execution_count": 62,
   "id": "4c7a997e-033c-4f12-890b-70e7ad678514",
   "metadata": {},
   "outputs": [],
   "source": [
    "#import useful libraries\n",
    "import os\n",
    "import numpy as np\n",
    "import matplotlib.pyplot as plt\n",
    "from mpl_toolkits.mplot3d import Axes3D  # noqa: F401 unused import\n",
    "import pickle\n",
    "import configuration\n",
    "import general_statistics as stats\n",
    "import figures as figs\n",
    "import matplotlib.cm as cm\n",
    "from matplotlib import colors\n",
    "from scipy import signal\n",
    "from scipy import stats as sstats\n",
    "from sklearn.decomposition import PCA\n",
    "from sklearn.manifold import TSNE\n",
    "import scipy\n",
    "cmap = cm.jet\n",
    "import math\n",
    "from sklearn.datasets import load_iris\n",
    "from sklearn.datasets import load_iris\n",
    "from sklearn.model_selection import train_test_split\n",
    "from sklearn.naive_bayes import GaussianNB\n",
    "from sklearn.metrics import confusion_matrix\n",
    "from sklearn.cross_decomposition import CCA\n",
    "from sklearn.model_selection import cross_val_score\n",
    "import random\n",
    "from sklearn.pipeline import Pipeline\n",
    "from sklearn.model_selection import KFold\n",
    "import seaborn as sns\n",
    "\n",
    "\n",
    "import warnings\n",
    "warnings.filterwarnings(\"ignore\")"
   ]
  },
  {
   "cell_type": "code",
   "execution_count": 63,
   "id": "540250f4-0641-4ffa-b142-614dfa9235e4",
   "metadata": {},
   "outputs": [],
   "source": [
    "input_directory = os.environ['PROJECT_DIR'] + 'neural_analysis/data/mean_representational_distance/occupancy/'\n",
    "figure_path = os.environ['PROJECT_DIR'] +'neural_analysis/figures/mean_representational_distance/'"
   ]
  },
  {
   "cell_type": "code",
   "execution_count": 64,
   "id": "4aa03586-c80c-4f53-8c74-621758b23576",
   "metadata": {},
   "outputs": [],
   "source": [
    "mouse_vector = [56165, 32363, 32364, 32365, 411857, 411857, 401714]\n",
    "conditions_vector = ['RANDOM', 'OVERLAPPING','STABLE']\n",
    "sessions_random = [4,1,0,2,2,6,2] # total = 6\n",
    "sessions_overlapping = [1,2,1,0,3,5,0] # total = 6\n",
    "fixed_corner = [3,4,2,0,1,4,0]\n",
    "sessions_stable = [2,0,2,0,1,4,1] # total = 5 (4 and 1/2)"
   ]
  },
  {
   "cell_type": "code",
   "execution_count": 65,
   "id": "b641cdc8-aa00-45f4-87d4-5d51f68bb8c3",
   "metadata": {},
   "outputs": [],
   "source": [
    "mouse = 32363\n",
    "session = 1\n",
    "file_name = input_directory + 'distance_matrix_mouse_' + f'{mouse}' +'_session_' + f'{session}'+ '.npy'\n",
    "if os.path.isfile(file_name):\n",
    "    distance = np.load(file_name)"
   ]
  },
  {
   "cell_type": "code",
   "execution_count": 66,
   "id": "6067d1f0-2ed1-4519-b8aa-300e2d4eb5ca",
   "metadata": {},
   "outputs": [
    {
     "data": {
      "text/plain": [
       "(6, 2, 4)"
      ]
     },
     "execution_count": 66,
     "metadata": {},
     "output_type": "execute_result"
    }
   ],
   "source": [
    "distance.shape"
   ]
  },
  {
   "cell_type": "code",
   "execution_count": 67,
   "id": "ecb36844-58d8-4923-945e-7365f916bc20",
   "metadata": {},
   "outputs": [],
   "source": [
    "empty_corners_random = []\n",
    "occupied_corners_random = []\n",
    "\n",
    "empty_corners_overlapping = []\n",
    "occupied_corners_overlapping = []\n",
    "\n",
    "empty_corners_stable = []\n",
    "occupied_corners_stable = []\n",
    "\n",
    "fixed_corner_data = []\n",
    "\n",
    "for i in range(len(mouse_vector)):\n",
    "    mouse = mouse_vector[i]\n",
    "    #### check session_random\n",
    "    session = sessions_random[i]\n",
    "    if session:\n",
    "        file_name = input_directory + 'distance_matrix_mouse_' + f'{mouse}' +'_session_' + f'{session}'+ '.npy'\n",
    "        if os.path.isfile(file_name):\n",
    "            distance = np.load(file_name)\n",
    "            \n",
    "            empty_corners_random.append(distance[:,1,:])\n",
    "            occupied_corners_random.append(distance[:,0,:])\n",
    "            \n",
    "    session = sessions_overlapping[i]\n",
    "    if session:\n",
    "        file_name = input_directory + 'distance_matrix_mouse_' + f'{mouse}' +'_session_' + f'{session}'+ '.npy'\n",
    "        if os.path.isfile(file_name):\n",
    "            distance = np.load(file_name)\n",
    "            fixed_corner_data.append(fixed_corner[i])\n",
    "            empty_corners_overlapping.append(distance[:,1,:])\n",
    "            occupied_corners_overlapping.append(distance[:,0,:])\n",
    "            \n",
    "    session = sessions_stable[i]\n",
    "    if session:\n",
    "        file_name = input_directory + 'distance_matrix_mouse_' + f'{mouse}' +'_session_' + f'{session}'+ '.npy'\n",
    "        if os.path.isfile(file_name):\n",
    "            distance = np.load(file_name)\n",
    "            \n",
    "            empty_corners_stable.append(distance[:,1,:])\n",
    "            occupied_corners_stable.append(distance[:,0,:])"
   ]
  },
  {
   "cell_type": "code",
   "execution_count": 68,
   "id": "66851be3-31bf-4d66-915e-f4c1cc4294af",
   "metadata": {},
   "outputs": [],
   "source": [
    "### RANDOM\n",
    "empty_corners_mean_random = np.zeros((6))\n",
    "empty_corners_std_random = np.zeros((6))\n",
    "occupied_corners_mean_random = np.zeros((6))\n",
    "occupied_corners_std_random = np.zeros((6))\n",
    "for i in range(len(occupied_corners_random)):\n",
    "    for j in range(6):\n",
    "        for k in range(4):\n",
    "            occupied_corners_mean_random[j]+=occupied_corners_random[i][j,k]\n",
    "            occupied_corners_mean_random[j]+=occupied_corners_random[i][j,k]**2\n",
    "            empty_corners_mean_random[j]+=empty_corners_random[i][j,k]\n",
    "            empty_corners_mean_random[j]+=empty_corners_random[i][j,k]**2\n",
    "occupied_corners_mean_random= occupied_corners_mean_random/(len(occupied_corners_random)*4)\n",
    "occupied_corners_std_random = np.sqrt(occupied_corners_std_random/(len(occupied_corners_random)*4) - occupied_corners_mean_random**2)\n",
    "empty_corners_mean_random = empty_corners_mean_random/(len(empty_corners_random)*4)\n",
    "empty_corners_std_random = np.sqrt(empty_corners_std_random/(len(empty_corners_random)*4) - empty_corners_mean_random**2)\n",
    "\n",
    "            \n",
    "##STABLE\n",
    "occupied_corners_mean_stable = np.zeros((6))\n",
    "occupied_corners_std_stable = np.zeros((6))\n",
    "empty_corners_mean_stable = np.zeros((6))\n",
    "empty_corners_std_stable = np.zeros((6))\n",
    "for i in range(len(occupied_corners_stable)):\n",
    "    for j in range(6):\n",
    "        for k in range(4):\n",
    "            if np.isnan(occupied_corners_stable[i][j,k]) == False:\n",
    "                occupied_corners_mean_stable[j]+=occupied_corners_stable[i][j,k]\n",
    "                occupied_corners_std_stable[j]+=occupied_corners_stable[i][j,k]**2\n",
    "            if np.isnan(empty_corners_stable[i][j,k]) == False:\n",
    "                empty_corners_mean_stable[j]+=empty_corners_stable[i][j,k]\n",
    "                empty_corners_mean_stable[j]+=empty_corners_stable[i][j,k]**2\n",
    "occupied_corners_mean_stable= occupied_corners_mean_stable/(len(occupied_corners_stable)*4)\n",
    "occupied_corners_std_stable = np.sqrt(occupied_corners_std_random/(len(occupied_corners_stable)*4) - occupied_corners_mean_stable**2)\n",
    "empty_corners_mean_stable = empty_corners_mean_stable/(len(empty_corners_stable)*4)\n",
    "empty_corners_std_stable = np.sqrt(empty_corners_std_stable/(len(empty_corners_stable)*4) - empty_corners_mean_stable**2)\n",
    "\n",
    "\n",
    "\n",
    "empty_corners_mean_overlapping = np.zeros((6))\n",
    "empty_corners_mean_overlapping = np.zeros((6))\n",
    "for i in range(len(occupied_corners_overlapping)):\n",
    "    for j in range(6):\n",
    "        for k in range(4):\n",
    "            if np.isnan(empty_corners_stable[i][j,k]) == False:\n",
    "                empty_corners_mean_stable[j]+=empty_corners_stable[i][j,k]\n",
    "                empty_corners_mean_stable[j]+=empty_corners_stable[i][j,k]**2\n",
    "empty_corners_mean_overlapping = empty_corners_mean_overlapping/(len(empty_corners_overlapping)*3)\n",
    "empty_corners_std_overlapping = np.sqrt(empty_corners_std_overlapping/(len(empty_corners_overlapping)*3) - empty_corners_mean_overlapping**2)\n",
    "\n",
    "\n",
    "occupied_corners_mean_overlapping_fix = np.zeros((6))\n",
    "occupied_corners_std_overlapping_fix = np.zeros((6))\n",
    "for i in range(len(occupied_corners_overlapping)):\n",
    "    for j in range(6):\n",
    "        occupied_corners_mean_overlapping_fix[j] += occupied_corners_overlapping[i][j,fixed_corner_data[i]-1]\n",
    "        occupied_corners_std_overlapping_fix[j] =occupied_corners_overlapping[i][j,fixed_corner_data[i]-1]**2\n",
    "occupied_corners_mean_overlapping_fix = occupied_corners_mean_overlapping_fix/len(occupied_corners_overlapping)\n",
    "occupied_corners_std_overlapping_fix = np.sqrt(occupied_corners_std_overlapping_fix/len(occupied_corners_overlapping) - occupied_corners_mean_overlapping_fix**2)\n",
    "\n",
    "occupied_corners_mean_overlapping_mov = np.zeros((6))\n",
    "occupied_corners_std_overlapping_mov = np.zeros((6))\n",
    "for i in range(len(occupied_corners_overlapping)):\n",
    "    for j in range(6):\n",
    "        for k in range(4):\n",
    "            occupied_corners_mean_overlapping_mov[j]+=occupied_corners_overlapping[i][j,k]\n",
    "            occupied_corners_mean_overlapping_mov[j]+=occupied_corners_overlapping[i][j,k]**2\n",
    "        occupied_corners_mean_overlapping_mov[j] =  occupied_corners_mean_overlapping_mov[j] - occupied_corners_overlapping[i][j,fixed_corner_data[i]-1]\n",
    "        occupied_corners_std_overlapping_mov[j] =  occupied_corners_std_overlapping_mov[j] - occupied_corners_overlapping[i][j,fixed_corner_data[i]-1]**2\n",
    "occupied_corners_mean_overlapping_mov = occupied_corners_mean_overlapping_mov / (len(occupied_corners_overlapping)*3)   \n",
    "occupied_corners_std_overlapping_mov =np.sqrt(occupied_corners_std_overlapping_mov / (len(occupied_corners_overlapping)*3)  - occupied_corners_mean_overlapping_mov**2)\n",
    "  \n"
   ]
  },
  {
   "cell_type": "code",
   "execution_count": null,
   "id": "03aae012-5313-45aa-b06d-ea15a6dae4f8",
   "metadata": {},
   "outputs": [],
   "source": []
  },
  {
   "cell_type": "code",
   "execution_count": 50,
   "id": "2cc91df0-981b-4e5a-b3ec-081a1f7c8afa",
   "metadata": {},
   "outputs": [
    {
     "data": {
      "text/plain": [
       "array([1.45333422, 1.81051481, 1.44625109, 6.73610962, 6.48781903,\n",
       "       8.03053128])"
      ]
     },
     "execution_count": 50,
     "metadata": {},
     "output_type": "execute_result"
    }
   ],
   "source": [
    "occupied_corners_mean_overlapping_mov"
   ]
  },
  {
   "cell_type": "code",
   "execution_count": 51,
   "id": "1f96c639-bd06-401b-a832-3fb1223a4266",
   "metadata": {},
   "outputs": [
    {
     "data": {
      "text/plain": [
       "array([1.14517846, 1.20659997, 0.27309905, 2.04888413, 2.1651759 ,\n",
       "       1.67467436])"
      ]
     },
     "execution_count": 51,
     "metadata": {},
     "output_type": "execute_result"
    }
   ],
   "source": [
    "empty_corners_mean_overlapping"
   ]
  },
  {
   "cell_type": "code",
   "execution_count": 34,
   "id": "e57c12e5-fafe-4f0c-82e7-b7a131146b25",
   "metadata": {},
   "outputs": [
    {
     "data": {
      "image/png": "[encoded data removed]",
      "text/plain": [
       "<Figure size 1440x504 with 3 Axes>"
      ]
     },
     "metadata": {
      "needs_background": "light"
     },
     "output_type": "display_data"
    }
   ],
   "source": [
    "fig, axes = plt.subplots(1,3)\n",
    "\n",
    "label = ['neural','pca','cca_time','cca_allo','cca_ego','lda']\n",
    "xpos = np.arange(0,6)*3\n",
    "\n",
    "axes[0].bar(np.arange(0,6)*3,empty_corners_mean_random_all, alpha = 0.5)\n",
    "axes[0].bar(np.arange(0,6)*3+1,occupied_corners_mean_random_all, alpha = 0.5)\n",
    "axes[0].legend(['Empty corner','Occupied corner'])\n",
    "axes[0].set_xticks(xpos)\n",
    "axes[0].set_xticklabels(label, fontsize = 15)\n",
    "for tick in axes[0].get_xticklabels():\n",
    "    tick.set_rotation(45)\n",
    "\n",
    "    \n",
    "axes[1].bar(np.arange(0,6)*3,empty_corners_mean_stable_all, alpha = 0.5)\n",
    "axes[1].bar(np.arange(0,6)*3+1,occupied_corners_mean_stable_all, alpha = 0.5)\n",
    "axes[1].legend(['Empty corner','Occupied corner'])\n",
    "axes[1].set_xticks(xpos)\n",
    "axes[1].set_xticklabels(label, fontsize = 15)\n",
    "for tick in axes[1].get_xticklabels():\n",
    "    tick.set_rotation(45)\n",
    "    \n",
    "\n",
    "\n",
    "axes[2].bar(np.arange(0,6)*4,empty_corners_mean_overlapping, alpha = 0.5)\n",
    "axes[2].bar(np.arange(0,6)*4+1,occupied_corners_mean_overlapping_mov, alpha = 0.5)\n",
    "axes[2].bar(np.arange(0,6)*4+2,occupied_corners_mean_overlapping_fix, alpha = 0.5)\n",
    "axes[2].legend(['Empty corner','Occupied corner moving obj', 'Occupied corner fixed obj'])\n",
    "axes[2].set_xticks(xpos)\n",
    "xpos = np.arange(0,6)*4\n",
    "axes[2].set_xticks(xpos)\n",
    "axes[2].set_xticklabels(label, fontsize = 15)\n",
    "for tick in axes[2].get_xticklabels():\n",
    "    tick.set_rotation(45)\n",
    "    \n",
    "\n",
    "for i in range(3):\n",
    "    axes[i].set_ylim([-0.5,4])\n",
    "\n",
    "fig.set_size_inches([20,7])\n"
   ]
  },
  {
   "cell_type": "code",
   "execution_count": 72,
   "id": "5079a38e-ab8b-45b1-8a73-4f93cb0b03ff",
   "metadata": {},
   "outputs": [
    {
     "data": {
      "text/plain": [
       "array([inf, inf, inf, inf, inf, inf])"
      ]
     },
     "execution_count": 72,
     "metadata": {},
     "output_type": "execute_result"
    }
   ],
   "source": [
    "empty_corners_mean_random_all"
   ]
  },
  {
   "cell_type": "code",
   "execution_count": null,
   "id": "7eae0f78-6894-4285-b5c4-7cae4b83edf9",
   "metadata": {},
   "outputs": [],
   "source": []
  }
 ],
 "metadata": {
  "kernelspec": {
   "display_name": "Python 3 (ipykernel)",
   "language": "python",
   "name": "python3"
  },
  "language_info": {
   "codemirror_mode": {
    "name": "ipython",
    "version": 3
   },
   "file_extension": ".py",
   "mimetype": "text/x-python",
   "name": "python",
   "nbconvert_exporter": "python",
   "pygments_lexer": "ipython3",
   "version": "3.9.7"
  }
 },
 "nbformat": 4,
 "nbformat_minor": 5
}
