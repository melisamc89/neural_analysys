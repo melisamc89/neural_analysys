{
 "cells": [
  {
   "cell_type": "markdown",
   "metadata": {},
   "source": [
    "# Multilabel classification for multiple behavioural attributes"
   ]
  },
  {
   "cell_type": "code",
   "execution_count": 1,
   "metadata": {},
   "outputs": [],
   "source": [
    "#import useful libraries\n",
    "import os\n",
    "import numpy as np\n",
    "import matplotlib.pyplot as plt\n",
    "from mpl_toolkits.mplot3d import Axes3D  # noqa: F401 unused import\n",
    "import pickle\n",
    "import configuration\n",
    "import general_statistics as stats\n",
    "import figures as figs\n",
    "import matplotlib.cm as cm\n",
    "from matplotlib import colors\n",
    "from scipy import signal\n",
    "from scipy import stats as sstats\n",
    "from sklearn.decomposition import PCA\n",
    "from sklearn.manifold import TSNE\n",
    "import scipy\n",
    "cmap = cm.jet\n",
    "import math"
   ]
  },
  {
   "cell_type": "code",
   "execution_count": 2,
   "metadata": {},
   "outputs": [],
   "source": [
    "# define mouse information, and preprocessin versions from analysis.\n",
    "# load data for all sessions in this mouse and compute mean activity for each neuron.\n",
    "\n",
    "mouse = 56165       ### mouse number id\n",
    "decoding_v = 1            ## decoding version, normaly equal to one\n",
    "motion_correction_v = 20  ### 100 means everything was aligned, 200 means it was also equalized, 20 is for day wise\n",
    "alignment_v = 3           ## alignment version, version 3 is for day wise\n",
    "equalization_v = 0        ## equalization version\n",
    "source_extraction_v = 1   ## source extraction version\n",
    "component_evaluation_v = 1 ## component evaluation version\n",
    "\n",
    "# here we will do analysis with no registration\n",
    "# registration_v = 2        ## registration version\n",
    "sf = 10                   ## sampling frequency of the original signal \n",
    "re_sf= 1                ## value of resampling\n",
    "session_now = 1\n",
    "BINS = 70\n",
    "period = int(1 * sf / re_sf)\n",
    "period_resting = period *10\n",
    "fixed = 'None'\n",
    "## define task for plotting. This will cahnge for other mice!!!!\n",
    "\n",
    "if mouse == 56165 or mouse == 32364:\n",
    "    if mouse == 56165:\n",
    "        sessions = [1,2,4]       ## sessions for this particular mouse\n",
    "    if mouse == 32364:\n",
    "        sessions = [1,2]\n",
    "    if session_now == 1:\n",
    "        task = 'OVERLAPPING'\n",
    "        colapse_behaviour = 1\n",
    "        labels =['Unlabel','Rest1', 'Navigation', 'Obj1' , 'Obj2', 'Run1', 'Run2']\n",
    "        colornames=['k',\"r\",\"deepskyblue\",\"g\",\"blue\",\"g\",\"blue\"]\n",
    "        if mouse == 32364:\n",
    "            fixed = 'LR'\n",
    "            object_fixed = 4\n",
    "            colapse_behaviour = 1\n",
    "            labels =['Unlabel','Rest1', 'Navigation', 'Overlap_object' , 'Moving_object','RunOO' , 'RunMO' ]\n",
    "            colornames=['k',\"r\",\"deepskyblue\",\"g\",\"blue\",\"g\",\"blue\"]   \n",
    "        if mouse == 56165:\n",
    "            fixed = 'UR'\n",
    "            object_fixed = 5\n",
    "            colapse_behaviour = 1\n",
    "            labels =['Unlabel','Rest1', 'Navigation', 'Overlap_object' , 'Moving_object','RunOO' , 'RunMO' ]\n",
    "            colornames=['k',\"r\",\"deepskyblue\",\"g\",\"blue\",\"g\",\"blue\"]   \n",
    "\n",
    "    else:\n",
    "        if session_now == 2:\n",
    "            task = 'STABLE'\n",
    "            colapse_behaviour = 2\n",
    "            labels =['Unlabel','Rest1', 'Navigation', 'Obj1' , 'Obj2', 'Run1', 'Run2']\n",
    "            colornames=['k',\"r\",\"deepskyblue\",\"g\",\"blue\",\"g\",\"blue\"]\n",
    "        else:\n",
    "            task = 'RANDOM'\n",
    "            colapse_behaviour = 0\n",
    "            labels =['Unlabel','Rest1', 'Navigation', 'Obj1' , 'Obj2', 'Run1', 'Run2']\n",
    "            colornames=['k',\"r\",\"deepskyblue\",\"g\",\"blue\",\"g\",\"blue\"]\n",
    "            \n",
    "if mouse == 32365:\n",
    "    sessions = [2,3] ## sessions for this particular mouse\n",
    "    if session_now == 2:\n",
    "        task = 'RANDOM'\n",
    "        colapse_behaviour = 0\n",
    "        labels =['Unlabel','Rest1', 'Navigation', 'Obj1' , 'Obj2', 'Run1', 'Run2']\n",
    "        colornames=['k',\"r\",\"deepskyblue\",\"g\",\"blue\",\"g\",\"blue\"]\n",
    "    else:\n",
    "        if session_now == 3:\n",
    "            task = 'OVERLAPPING'\n",
    "            fixed = 'LR'\n",
    "            object_fixed = 4\n",
    "            colapse_behaviour = 1\n",
    "            labels =['Unlabel','Rest1', 'Navigation', 'Overlap_object' , 'Moving_object','RunOO' , 'RunMO' ]\n",
    "            colornames=['k',\"r\",\"deepskyblue\",\"g\",\"blue\",\"g\",\"blue\"]           \n",
    "            \n",
    "if mouse == 56166:\n",
    "    sessions = [1,2] ## sessions for this particular mouse\n",
    "    if session_now == 1:\n",
    "        task = 'RANDOM'\n",
    "        colapse_behaviour = 0\n",
    "        labels =['Unlabel','Rest1', 'Navigation', 'Obj1' , 'Obj2', 'Run1', 'Run2']\n",
    "        colornames=['k',\"r\",\"deepskyblue\",\"g\",\"blue\",\"g\",\"blue\"]\n",
    "\n",
    "    else:\n",
    "        if session_now == 2:\n",
    "            task = 'OVERLAPPING'\n",
    "            fixed = 'UR'\n",
    "            object_fixed = 5\n",
    "            colapse_behaviour = 1\n",
    "            labels =['Unlabel','Rest1', 'Navigation', 'Overlap_object' , 'Moving_object','RunOO' , 'RunMO' ]\n",
    "            colornames=['k',\"r\",\"deepskyblue\",\"g\",\"blue\",\"g\",\"blue\"]\n",
    "            \n",
    "if mouse == 32366:\n",
    "    sessions = [2,3] ## sessions for this particular mouse\n",
    "    if session_now == 3:\n",
    "        task = 'RANDOM'\n",
    "        colapse_behaviour = 0\n",
    "        labels =['Unlabel','Rest1', 'Navigation', 'Obj1' , 'Obj2', 'Run1', 'Run2']\n",
    "        colornames=['k',\"r\",\"deepskyblue\",\"g\",\"blue\",\"g\",\"blue\"]\n",
    "            \n",
    "if mouse == 32363:\n",
    "    sessions = [1,2] ## sessions for this particular mouse\n",
    "    if session_now == 1:\n",
    "        task = 'RANDOM'\n",
    "        colapse_behaviour = 0\n",
    "        labels =['Unlabel','Rest1', 'Navigation', 'Obj1' , 'Obj2', 'Run1', 'Run2']\n",
    "        colornames=['k',\"r\",\"deepskyblue\",\"g\",\"blue\",\"g\",\"blue\"]\n",
    "    else:\n",
    "        if session_now == 2:\n",
    "            task = 'OVERLAPPING'\n",
    "            fixed = 'UL'\n",
    "            object_fixed = 6\n",
    "            colapse_behaviour = 1\n",
    "            labels =['Unlabel','Rest1', 'Navigation', 'Overlap_object' , 'Moving_object','RunOO' , 'RunMO' ]\n",
    "            colornames=['k',\"r\",\"deepskyblue\",\"g\",\"blue\",\"g\",\"blue\"]"
   ]
  },
  {
   "cell_type": "code",
   "execution_count": 3,
   "metadata": {},
   "outputs": [],
   "source": [
    "file_directory = os.environ['PROJECT_DIR'] + 'neural_analysis/data/calcium_activity_day_wise/'\n",
    "timeline_file_dir = os.environ['PROJECT_DIR'] + 'neural_analysis/data/timeline/'\n",
    "behaviour_dir = os.environ['PROJECT_DIR'] + 'calcium_imaging_behaviour/data/ethogram/' + f'{mouse}' + '/session_' + f'{session_now}' + '/'\n",
    "behaviour_dir_unsup = os.environ['PROJECT_DIR'] + 'calcium_imaging_behaviour/data/ethogram_unsupervised/' + f'{mouse}' + '/session_' + f'{session_now}' + '/'\n",
    "behaviour_dir_parameters = os.environ['PROJECT_DIR'] + 'calcium_imaging_behaviour/data/ethogram_parameters/' + f'{mouse}' + '/session_' + f'{session_now}' + '/'\n",
    "tracking_dir = os.environ['PROJECT_DIR'] + 'calcium_imaging_behaviour/data/center_of_mass/' + f'{mouse}' + '/session_' + f'{session_now}' + '/'\n",
    "objects_dir= os.environ['PROJECT_DIR'] + 'calcium_imaging_behaviour/data/object_positions/'\n",
    "figure_path = os.environ['PROJECT_DIR'] +'neural_analysis/figures/'"
   ]
  },
  {
   "cell_type": "code",
   "execution_count": 4,
   "metadata": {},
   "outputs": [],
   "source": [
    "# define all relevant files names and load them into a list\n",
    "session = session_now\n",
    "\n",
    "activity_list = []\n",
    "timeline_list = []\n",
    "behaviour_list = []\n",
    "behaviour_list_unsup = []\n",
    "parameters_list = []\n",
    "tracking_list = []\n",
    "total_time = 0\n",
    "day = 0\n",
    "for trial in [1,6,11,16]:\n",
    "    \n",
    "    beh_file_name_1 = 'mouse_' + f'{mouse}' + '_session_' + f'{session}' + '_day_' + f'{day+1}' + '_likelihood_0.75_ethogram.npy'\n",
    "    ## LOAD BEHAVIOUR\n",
    "    behaviour = np.load(behaviour_dir + beh_file_name_1)\n",
    "    reshape_behaviour = np.reshape(behaviour[:int(int(behaviour.shape[0]/re_sf)*re_sf)],(int(behaviour.shape[0]/re_sf),re_sf))\n",
    "    resample_beh1 = np.reshape(scipy.stats.mode(reshape_behaviour,axis=1)[0],reshape_behaviour.shape[0])\n",
    "    \n",
    "    beh_file_name_1 = 'mouse_' + f'{mouse}' + '_session_' + f'{session}' + '_day_' + f'{day+1}' + '_likelihood_0.75_parameters.npy'\n",
    "    ## LOAD PARAMETRS FOR BEHAVIOUR CLASSIFICATION\n",
    "    parameters = np.load(behaviour_dir_parameters + beh_file_name_1)\n",
    "    resample_params, resample_parameters_std = stats.resample_matrix(neural_activity=parameters.T,\n",
    "                                                                                        re_sf=re_sf)\n",
    "\n",
    "    \n",
    "    ## LOAD TRACKING\n",
    "    tracking_file_name_1 = 'mouse_' + f'{mouse}' + '_session_' + f'{session}' + '_day_' + f'{day+1}' + '_likelihood_0.75.npy'\n",
    "    position = np.load(tracking_dir + tracking_file_name_1)\n",
    "    resample_position, resample_position_stc = stats.resample_matrix(neural_activity=position.T,\n",
    "                                                                                        re_sf=re_sf)\n",
    "    ## LOAD TIMELINE\n",
    "    time_file_session_1 =  'mouse_'+ f'{mouse}'+'_session_'+ f'{session}' +'_trial_'+ f'{trial}'+'_v1.3.1.0_10.pkl'\n",
    "\n",
    "    timeline_file= open(timeline_file_dir + time_file_session_1,'rb')\n",
    "    timeline_info = pickle.load(timeline_file)\n",
    "    timeline_1 = np.zeros(len(timeline_info) + 1)\n",
    "    for i in range(len(timeline_info)):\n",
    "        timeline_1[i] = timeline_info[i][1]\n",
    "    timeline_1[len(timeline_info)] = behaviour.shape[0]\n",
    "    timeline = timeline_1/re_sf\n",
    "    time_lenght = 10\n",
    "    resample_timeline = timeline_1/re_sf\n",
    "    timeline_list.append(resample_timeline)\n",
    "    \n",
    "    behaviour_list.append(resample_beh1)\n",
    "    parameters_list.append(resample_params)\n",
    "    tracking_list.append(resample_position)\n",
    "    total_time = total_time + behaviour.shape[0]\n",
    "    \n",
    "    \n",
    "    file_name_session_1 = 'mouse_' + f'{mouse}' + '_session_' + f'{session}' + '_trial_'+ f'{trial}'+'_v' + f'{decoding_v}' + '.4.' + f'{motion_correction_v}' + \\\n",
    "                          '.' + f'{alignment_v}' + '.' + f'{equalization_v}' + '.' + f'{source_extraction_v}' + '.' + \\\n",
    "                          f'{component_evaluation_v}' +  '.0.npy'\n",
    "\n",
    "    ##load activity and timeline\n",
    "    activity = np.load(file_directory + file_name_session_1)\n",
    "    neural_activity1 = activity[1:,:]\n",
    "    ## z-score neural activity\n",
    "    neural_activity = neural_activity1\n",
    "    ##downsample neural activity\n",
    "    resample_neural_activity_mean, resample_neural_activity_std = stats.resample_matrix(neural_activity=neural_activity,\n",
    "                                                                                        re_sf=re_sf)\n",
    "    \n",
    "    activity_list.append(resample_neural_activity_mean)\n",
    "    \n",
    "    day = day + 1"
   ]
  },
  {
   "cell_type": "code",
   "execution_count": 6,
   "metadata": {},
   "outputs": [],
   "source": [
    "def speed_selection(tracking = None, speed_limit = 3):\n",
    "    \n",
    "    x = tracking[0,:]\n",
    "    y = tracking[1,:]\n",
    "    vx = np.diff(x)\n",
    "    vy = np.diff(y)\n",
    "    speed = np.sqrt(vx*vx+vy*vy)\n",
    "    index = np.where(speed > speed_limit)[0]\n",
    "    \n",
    "    return index\n",
    "\n",
    "def binned_tracking(tracking = None, binnumber = 70):\n",
    "    \n",
    "    xpos = [int(tracking[0,i]) for i in range(tracking.shape[1])]\n",
    "    ypos = [int(tracking[1,i]) for i in range(tracking.shape[1])]\n",
    "    \n",
    "    \n",
    "    xdenom = int(np.max(xpos)/binnumber+1)\n",
    "    ydenom = int(np.max(ypos)/binnumber+1)\n",
    "    \n",
    "    xnew = [int(xpos[i]/xdenom) for i in range(tracking.shape[1])]\n",
    "    ynew = [int(ypos[i]/xdenom) for i in range(tracking.shape[1])]\n",
    "    \n",
    "    return xnew,ynew"
   ]
  },
  {
   "cell_type": "code",
   "execution_count": 128,
   "metadata": {},
   "outputs": [],
   "source": [
    "from sklearn.model_selection import train_test_split\n",
    "from sklearn.naive_bayes import GaussianNB\n",
    "from sklearn.metrics import confusion_matrix\n",
    "\n",
    "day = 0\n",
    "CMBINS = 2\n",
    "SPEED_THRES = 3\n",
    "DISTANCE = 200\n",
    "ANGLE = math.pi / 2\n",
    "FR_limit = 12\n",
    "#index = speed_selection(tracking_list[day], speed_limit = 3)\n",
    "\n",
    "### center of mass parameters\n",
    "cm = parameters_list[day][:,0:2]\n",
    "ypre = np.array(binned_tracking(tracking = cm.T, binnumber = BINS )).T\n",
    "index = np.where(np.logical_and(ypre[:,0]>=0,ypre[:,1]>=0))[0]\n",
    "cmbinsx = ypre[index,0]\n",
    "cmbinsy = ypre[index,1]\n",
    "\n",
    "### object distance parameters\n",
    "d1 = parameters_list[day][:,4]\n",
    "d1 = d1[index]\n",
    "d1bins = np.zeros_like(d1)\n",
    "d1bins[np.where(d1<DISTANCE)[0]] = 1\n",
    "\n",
    "d2 = parameters_list[day][:,5]\n",
    "d2 = d2[index]\n",
    "d2bins = np.zeros_like(d1)\n",
    "d2bins[np.where(d2<DISTANCE)[0]] = 1\n",
    "\n",
    "### speed parameters\n",
    "speed = parameters_list[day][:,6]\n",
    "speed = speed[index]\n",
    "speedbins = np.zeros_like(speed)\n",
    "speedbins[np.where(speed>SPEED_THRES)[0]] = 1\n",
    "\n",
    "## angle\n",
    "angle1 = parameters_list[day][:,11]\n",
    "angle1 = angle1[index]\n",
    "a1bins = np.zeros_like(angle1)\n",
    "a1bins[np.where(angle1 > ANGLE)[0]] = 1\n",
    "\n",
    "angle2 = parameters_list[day][:,12]\n",
    "angle2 = angle2[index]\n",
    "a2bins = np.zeros_like(angle2)\n",
    "a2bins[np.where(angle2 > ANGLE)[0]] = 1\n",
    "\n",
    "ybinarized = np.array([cmbinsx, cmbinsy,d1bins, d2bins,speedbins,a1bins,a2bins]).T\n"
   ]
  },
  {
   "cell_type": "code",
   "execution_count": 193,
   "metadata": {},
   "outputs": [],
   "source": [
    "Xpre = activity_list[day].T\n",
    "Xpre = Xpre[index,:]\n",
    "firing_rate = np.mean(Xpre,axis = 0)*10\n",
    "selected_cells = np.where(firing_rate < FR_limit)[0]\n",
    "X = Xpre[:,selected_cells]\n",
    "#X = X.astype(int)\n",
    "\n",
    "from sklearn.cross_decomposition import CCA\n",
    "cca = CCA(n_components=7)\n",
    "X = cca.fit(X, ybinarized).transform(X)\n",
    "#X = X[:,0:2]"
   ]
  },
  {
   "cell_type": "code",
   "execution_count": 169,
   "metadata": {},
   "outputs": [],
   "source": [
    "ybehaviour = behaviour_list[day][index]\n",
    "X_train, X_test, y_train, y_test = train_test_split(X, ybinarized, test_size=0.1, random_state=0)"
   ]
  },
  {
   "cell_type": "code",
   "execution_count": 187,
   "metadata": {},
   "outputs": [
    {
     "data": {
      "text/plain": [
       "KNeighborsClassifier(algorithm='auto', leaf_size=30, metric='minkowski',\n",
       "                     metric_params=None, n_jobs=None, n_neighbors=7, p=2,\n",
       "                     weights='uniform')"
      ]
     },
     "execution_count": 187,
     "metadata": {},
     "output_type": "execute_result"
    }
   ],
   "source": [
    "from sklearn.neighbors import KNeighborsClassifier\n",
    "neigh = KNeighborsClassifier(n_neighbors=7)\n",
    "neigh.fit(X_train, y_train)"
   ]
  },
  {
   "cell_type": "code",
   "execution_count": 188,
   "metadata": {},
   "outputs": [],
   "source": [
    "score = neigh.score(X_test, y_test)\n"
   ]
  },
  {
   "cell_type": "code",
   "execution_count": 189,
   "metadata": {},
   "outputs": [
    {
     "name": "stdout",
     "output_type": "stream",
     "text": [
      "0.563949843260188\n"
     ]
    }
   ],
   "source": [
    "print(score)"
   ]
  },
  {
   "cell_type": "code",
   "execution_count": 190,
   "metadata": {},
   "outputs": [],
   "source": [
    "# np.random.shuffle(X_train)\n",
    "# neigh.fit(X_train, y_train)\n",
    "# score = neigh.score(X_test, y_test)\n",
    "# print(score)"
   ]
  },
  {
   "cell_type": "code",
   "execution_count": 191,
   "metadata": {},
   "outputs": [],
   "source": [
    "# Embed the data set in 2 dimensions using the fitted model\n",
    "X_embedded = neigh.predict(X)"
   ]
  },
  {
   "cell_type": "code",
   "execution_count": 192,
   "metadata": {},
   "outputs": [
    {
     "name": "stdout",
     "output_type": "stream",
     "text": [
      "(31900, 7)\n"
     ]
    },
    {
     "data": {
      "text/plain": [
       "<mpl_toolkits.mplot3d.art3d.Path3DCollection at 0x7f30530bfc50>"
      ]
     },
     "execution_count": 192,
     "metadata": {},
     "output_type": "execute_result"
    },
    {
     "data": {
      "image/png": "[encoded data removed]",
      "text/plain": [
       "<Figure size 432x288 with 1 Axes>"
      ]
     },
     "metadata": {
      "needs_background": "light"
     },
     "output_type": "display_data"
    }
   ],
   "source": [
    "print(X_embedded.shape)\n",
    "#plt.plot(X_embedded)\n",
    "# Plot the projected points and show the evaluation score\n",
    "fig = plt.figure()\n",
    "ax = fig.add_subplot(projection='3d')\n",
    "ax.scatter(X_embedded[:, 0], X_embedded[:, 1],X_embedded[:, 3], c=ybehaviour, s=30, cmap='Set1')\n"
   ]
  },
  {
   "cell_type": "code",
   "execution_count": 183,
   "metadata": {},
   "outputs": [
    {
     "name": "stdout",
     "output_type": "stream",
     "text": [
      "[[0. 0. 1. ... 0. 0. 0.]\n",
      " [0. 1. 1. ... 1. 1. 0.]\n",
      " [0. 0. 1. ... 1. 1. 0.]\n",
      " ...\n",
      " [0. 0. 1. ... 0. 0. 0.]\n",
      " [0. 0. 1. ... 0. 0. 0.]\n",
      " [0. 0. 1. ... 0. 0. 0.]]\n"
     ]
    }
   ],
   "source": [
    "print(X_embedded)"
   ]
  },
  {
   "cell_type": "code",
   "execution_count": null,
   "metadata": {},
   "outputs": [],
   "source": [
    "# Fit the method's model\n",
    "model.fit(X_train, y_train)\n",
    "\n",
    "    # Fit a nearest neighbor classifier on the embedded training set\n",
    "    knn.fit(model.transform(X_train), y_train)\n",
    "\n",
    "    # Compute the nearest neighbor accuracy on the embedded test set\n",
    "    acc_knn = knn.score(model.transform(X_test), y_test)\n",
    "\n",
    "    # Embed the data set in 2 dimensions using the fitted model\n",
    "    X_embedded = model.transform(X)\n",
    "\n",
    "    # Plot the projected points and show the evaluation score\n",
    "    plt.scatter(X_embedded[:, 0], X_embedded[:, 1], c=y, s=30, cmap='Set1')"
   ]
  },
  {
   "cell_type": "code",
   "execution_count": null,
   "metadata": {},
   "outputs": [],
   "source": []
  }
 ],
 "metadata": {
  "kernelspec": {
   "display_name": "Python 3",
   "language": "python",
   "name": "python3"
  },
  "language_info": {
   "codemirror_mode": {
    "name": "ipython",
    "version": 3
   },
   "file_extension": ".py",
   "mimetype": "text/x-python",
   "name": "python",
   "nbconvert_exporter": "python",
   "pygments_lexer": "ipython3",
   "version": "3.7.4"
  }
 },
 "nbformat": 4,
 "nbformat_minor": 4
}
