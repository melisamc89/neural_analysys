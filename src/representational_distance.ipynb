{
 "cells": [
  {
   "cell_type": "markdown",
   "id": "40a139d7-7f12-4e8e-9905-38ccc6c63ac5",
   "metadata": {},
   "source": [
    "### Combining programs properly"
   ]
  },
  {
   "cell_type": "code",
   "execution_count": 1,
   "id": "776f4ca5-ab23-4303-87ca-ff49090c7311",
   "metadata": {},
   "outputs": [],
   "source": [
    "#import useful libraries\n",
    "import os\n",
    "import numpy as np\n",
    "import matplotlib.pyplot as plt\n",
    "from mpl_toolkits.mplot3d import Axes3D  # noqa: F401 unused import\n",
    "import pickle\n",
    "import configuration\n",
    "import general_statistics as stats\n",
    "import figures as figs\n",
    "import matplotlib.cm as cm\n",
    "from matplotlib import colors\n",
    "from scipy import signal\n",
    "from scipy import stats as sstats\n",
    "from sklearn.decomposition import PCA\n",
    "from sklearn.manifold import TSNE\n",
    "import scipy\n",
    "cmap = cm.jet\n",
    "import math\n",
    "from sklearn.datasets import load_iris\n",
    "from sklearn.datasets import load_iris\n",
    "from sklearn.model_selection import train_test_split\n",
    "from sklearn.naive_bayes import GaussianNB\n",
    "from sklearn.metrics import confusion_matrix\n",
    "from sklearn.cross_decomposition import CCA\n",
    "from sklearn.model_selection import cross_val_score\n",
    "import random\n",
    "from sklearn.pipeline import Pipeline\n",
    "from sklearn.model_selection import KFold\n",
    "import seaborn as sns\n",
    "from sklearn.discriminant_analysis import LinearDiscriminantAnalysis as LDA\n",
    "\n",
    "\n",
    "\n",
    "import warnings\n",
    "warnings.filterwarnings(\"ignore\")\n",
    "from analysis_functions import *\n"
   ]
  },
  {
   "cell_type": "code",
   "execution_count": 2,
   "id": "1d3c23bf-b685-4169-bcc0-41280b8f17cb",
   "metadata": {},
   "outputs": [],
   "source": [
    "mouse = 56165      ### mouse number id\n",
    "decoding_v = 1            ## decoding version, normaly equal to one\n",
    "motion_correction_v = 20  ### 100 means everything was aligned, 200 means it was also equalized, 20 is for day wise\n",
    "alignment_v = 3           ## alignment version, version 3 is for day wise\n",
    "equalization_v = 0        ## equalization version\n",
    "source_extraction_v = 1   ## source extraction version\n",
    "component_evaluation_v = 1 ## component evaluation version\n",
    "\n",
    "# here we will do analysis with no registration\n",
    "# registration_v = 2        ## registration version\n",
    "sf = 10                   ## sampling frequency of the original signal \n",
    "re_sf= 1                 ## value of resampling\n",
    "session_now = 1\n",
    "period = int(10 * sf / re_sf)\n",
    "period_resting = period *50\n",
    "N_SHUFFLINGS = 50\n",
    "colorcodes = ['Greys','PuBu', 'YlOrRd','Reds','Blues','Oranges','Greens']\n"
   ]
  },
  {
   "cell_type": "code",
   "execution_count": 3,
   "id": "9c3ec460-6caa-4836-869d-16b01cc217df",
   "metadata": {},
   "outputs": [],
   "source": [
    "task,colapse_behaviour,object_fixed,fixed,labels,colornames = mouse_properties(mouse = mouse, session_now = session_now)"
   ]
  },
  {
   "cell_type": "code",
   "execution_count": 4,
   "id": "90dd31d1-54ec-4c2a-a5eb-7537390c6d03",
   "metadata": {},
   "outputs": [],
   "source": [
    "file_directory = os.environ['PROJECT_DIR'] + 'neural_analysis/data/calcium_activity_day_wise/'\n",
    "timeline_file_dir = os.environ['PROJECT_DIR'] + 'neural_analysis/data/timeline/'\n",
    "behaviour_dir = os.environ['PROJECT_DIR'] + 'calcium_imaging_behaviour/data/ethogram/' + f'{mouse}' + '/session_' + f'{session_now}' + '/'\n",
    "behaviour_dir_parameters = os.environ['PROJECT_DIR'] + 'calcium_imaging_behaviour/data/ethogram_parameters/' + f'{mouse}' + '/session_' + f'{session_now}' + '/'\n",
    "tracking_dir = os.environ['PROJECT_DIR'] + 'calcium_imaging_behaviour/data/center_of_mass/' + f'{mouse}' + '/session_' + f'{session_now}' + '/'\n",
    "objects_dir= os.environ['PROJECT_DIR'] + 'calcium_imaging_behaviour/data/object_positions/'\n",
    "figure_path = os.environ['PROJECT_DIR'] +'neural_analysis/figures/trial_aligned_events/'"
   ]
  },
  {
   "cell_type": "code",
   "execution_count": null,
   "id": "fe6d3392-143e-44c0-abe7-074a323a89fd",
   "metadata": {},
   "outputs": [
    {
     "name": "stdout",
     "output_type": "stream",
     "text": [
      "LOADING TRIALS ACTIVITY AND CREATING LIST OF ACTIVITY, TRACKING AND BEHAVIOUR\n",
      "(195, 32368)\n",
      "(448, 30592)\n",
      "(322, 31977)\n",
      "(397, 30905)\n"
     ]
    }
   ],
   "source": [
    "activity_list,timeline_list,behaviour_list,corners_list,parameters_time,parameters_list,parameters_list2, speed_list = load_data(mouse, session_now,decoding_v, motion_correction_v, alignment_v, equalization_v,source_extraction_v,component_evaluation_v, re_sf,file_directory, timeline_file_dir, behaviour_dir, behaviour_dir_parameters, tracking_dir, objects_dir)"
   ]
  },
  {
   "cell_type": "code",
   "execution_count": 6,
   "id": "30b39c01-9fd5-4c6b-81d2-bdb205e79d92",
   "metadata": {},
   "outputs": [],
   "source": [
    "data_transformation = transform_neural_data(activity_list, behaviour_list,parameters_time,parameters_list,parameters_list2)"
   ]
  },
  {
   "cell_type": "code",
   "execution_count": 7,
   "id": "00aeac51-46c2-4765-82bd-1f6e4d81c2de",
   "metadata": {},
   "outputs": [
    {
     "name": "stdout",
     "output_type": "stream",
     "text": [
      "REDIFINING BEHAVIOUR FOR DIFFERENT SESSIONS\n"
     ]
    }
   ],
   "source": [
    "create_task_behaviour(behaviour_list,colapse_behaviour,object_fixed)"
   ]
  },
  {
   "cell_type": "code",
   "execution_count": 8,
   "id": "d866c66d-1157-43b8-8030-727244c4f618",
   "metadata": {},
   "outputs": [
    {
     "name": "stdout",
     "output_type": "stream",
     "text": [
      "CREATING CORNERS VECTORS VECTORS\n"
     ]
    }
   ],
   "source": [
    "print('CREATING CORNERS VECTORS VECTORS')\n",
    "navigation_list, exploration_list = create_corners_occupation(behaviour_list, corners_list, speed_list)\n"
   ]
  },
  {
   "cell_type": "code",
   "execution_count": 9,
   "id": "8954edd0-df5d-4eb7-ae8b-7e2392eb750a",
   "metadata": {},
   "outputs": [
    {
     "name": "stdout",
     "output_type": "stream",
     "text": [
      "CREATES LIST THAT SAVES ALL THE EVENTS IN A DAY AND CONTAINS ONSET OF VISITS\n"
     ]
    }
   ],
   "source": [
    "print('CREATES LIST THAT SAVES ALL THE EVENTS IN A DAY AND CONTAINS ONSET OF VISITS')\n",
    "### ethogram events list\n",
    "events_etho, events_shuffle_etho,events_counter_etho,events_onset_etho = create_events_list(behaviour_list, N_SHUFFLINGS)\n",
    "### navigation events list\n",
    "events_nav, events_shuffle_nav,events_counter_nav,events_onset_nav = create_events_list(navigation_list, N_SHUFFLINGS)\n",
    "### exploration events list\n",
    "events_exp, events_shuffle_exp,events_counter_exp,events_onset_exp = create_events_list(exploration_list, N_SHUFFLINGS)\n"
   ]
  },
  {
   "cell_type": "code",
   "execution_count": 10,
   "id": "8661d894-bdcb-4718-8f91-93081d0f11f7",
   "metadata": {},
   "outputs": [
    {
     "name": "stdout",
     "output_type": "stream",
     "text": [
      "NOW WE SEPARATE EVENTS TYPES ACCORDING TO CORNER/OBJECT VISIT\n"
     ]
    }
   ],
   "source": [
    "print('NOW WE SEPARATE EVENTS TYPES ACCORDING TO CORNER/OBJECT VISIT')\n",
    "## compute events duration for type of event. Here we create lists that we can access to know the duration of each ID event\n",
    "## we will use this to balance the dataset\n",
    "# id_for ethogram object exploration\n",
    "id_target_etho = [3,4]\n",
    "events_duration_etho, total_duration_etho,number_of_events_etho,events_id_etho = create_id_events(events_etho, events_counter_etho,events_onset_etho,id_target_etho)\n",
    "\n",
    "# id for corners navigation\n",
    "id_target_corners = [1,2,3,4]\n",
    "events_duration_nav, total_duration_nav,number_of_events_nav,events_id_nav = create_id_events(events_nav, events_counter_nav,events_onset_nav,id_target_corners)\n",
    "\n",
    "# id for corners navigation with objects\n",
    "id_target_exp = [1,2,3,4]\n",
    "events_duration_exp, total_duration_exp,number_of_events_exp,events_id_exp = create_id_events(events_exp, events_counter_exp,events_onset_exp,id_target_exp)"
   ]
  },
  {
   "cell_type": "code",
   "execution_count": 11,
   "id": "5d6b6ad3-3507-4e01-a8fe-799be67bf565",
   "metadata": {},
   "outputs": [
    {
     "name": "stdout",
     "output_type": "stream",
     "text": [
      "BALANCING TO THE LOWER NUMBER OF VISITS: ethogram\n",
      "Number of events per day after balancing:  59\n",
      "Number of events per day after balancing:  97\n",
      "Number of events per day after balancing:  75\n",
      "Number of events per day after balancing:  76\n",
      "BALANCING TO THE LOWER NUMBER OF VISITS: corners navigation\n",
      "Number of events per day after balancing:  11\n",
      "Number of events per day after balancing:  34\n",
      "Number of events per day after balancing:  25\n",
      "Number of events per day after balancing:  25\n",
      "BALANCING TO THE LOWER NUMBER OF VISITS: exploration navigation\n",
      "Number of events per day after balancing:  10\n",
      "Number of events per day after balancing:  5\n",
      "Number of events per day after balancing:  9\n",
      "Number of events per day after balancing:  9\n"
     ]
    }
   ],
   "source": [
    "print('BALANCING TO THE LOWER NUMBER OF VISITS: ethogram')\n",
    "events_number_etho, events_etho_b, events_etho_s_b = balancing_visits(number_of_events_etho,events_duration_etho,events_id_etho)\n",
    "print('BALANCING TO THE LOWER NUMBER OF VISITS: corners navigation')\n",
    "events_number_nav, events_nav_b, events_nav_s_b = balancing_visits(number_of_events_nav,events_duration_nav,events_id_nav)\n",
    "print('BALANCING TO THE LOWER NUMBER OF VISITS: exploration navigation')\n",
    "events_number_exp, events_exp_b, events_exp_s_b = balancing_visits(number_of_events_exp,events_duration_exp,events_id_exp)"
   ]
  },
  {
   "cell_type": "code",
   "execution_count": 12,
   "id": "07046afd-4396-4596-94e6-1d080bbccfc1",
   "metadata": {},
   "outputs": [
    {
     "name": "stdout",
     "output_type": "stream",
     "text": [
      "CREATE SHUFFLE LABELS THAT PRESERVE BALANCE\n"
     ]
    }
   ],
   "source": [
    "print('CREATE SHUFFLE LABELS THAT PRESERVE BALANCE')\n",
    "events_etho_shuffle_b = create_shuffling(events_etho,events_shuffle_etho,events_counter_etho,events_onset_etho,number_of_events_etho,events_id_etho,events_etho_b,N_SHUFFLINGS)\n",
    "events_nav_shuffle_b = create_shuffling(events_nav,events_shuffle_nav,events_counter_nav,events_onset_nav,number_of_events_nav,events_id_nav,events_nav_b,N_SHUFFLINGS)\n",
    "events_exp_shuffle_b = create_shuffling(events_exp,events_shuffle_exp,events_counter_exp,events_onset_exp,number_of_events_exp,events_id_exp,events_exp_b,N_SHUFFLINGS)"
   ]
  },
  {
   "cell_type": "code",
   "execution_count": 13,
   "id": "1d394a72-8040-49a9-a821-d17d4045b046",
   "metadata": {},
   "outputs": [
    {
     "name": "stdout",
     "output_type": "stream",
     "text": [
      "TAKING NEURAL OR TRANSFORMED ACTIVITY FOR EACH EVENT ... and create list with that\n",
      "CREATEING VISITIS ACTIVITY MATRICES\n"
     ]
    }
   ],
   "source": [
    "print('TAKING NEURAL OR TRANSFORMED ACTIVITY FOR EACH EVENT ... and create list with that')\n",
    "activity_events_etho = create_events_activity_data_transformation(activity_list,data_transformation,period,events_etho,events_counter_etho,events_onset_etho,events_id_etho,events_etho_b)\n",
    "activity_events_etho_shuffling = create_events_activity_data_transformation_shuffling(activity_list,data_transformation,period,events_etho_shuffle_b,events_counter_etho,events_onset_etho,events_id_etho,events_etho_s_b, N_SHUFFLINGS)\n",
    "print('CREATING VISITIS ACTIVITY MATRICES')\n",
    "trial_activity_etho = create_trial_activity_list(activity_events_etho,events_id_etho)\n",
    "trial_activity_shuffle_etho = create_trial_activity_list_shuffle(activity_events_etho_shuffling,events_id_etho, N_SHUFFLINGS)\n",
    "print('CREATING DISTANCE')\n"
   ]
  },
  {
   "cell_type": "code",
   "execution_count": 14,
   "id": "6c3d453c-d743-4cb7-8b2a-9c9b5c3fc67c",
   "metadata": {},
   "outputs": [
    {
     "name": "stdout",
     "output_type": "stream",
     "text": [
      "CREATEING VISITIS ACTIVITY MATRICES\n"
     ]
    }
   ],
   "source": [
    "print('CREATING DISTANCE tuple')\n",
    "distance_etho = compute_distance_list(trial_activity_etho,trial_activity_shuffle_etho, N_SHUFFLINGS)"
   ]
  },
  {
   "cell_type": "code",
   "execution_count": 15,
   "id": "42c7b8a6-aa7b-4abd-abe8-8591b74c041b",
   "metadata": {},
   "outputs": [],
   "source": [
    "\n",
    "def compute_distance_list(trial_activity, trial_activity_shuffle, N_SHUFFLINGS):\n",
    "\n",
    "    distance_neural, z_scored_neural = compute_representational_distance(trial_activity.neural,trial_activity_shuffle.neural,trial_activity_etho.neural.shape[1], N_SHUFFLINGS)\n",
    "    pca_components = np.where(data_transformation.variance_ratio[0]>0.7)[0][0]\n",
    "    distance_pca, z_scored_pca = compute_representational_distance(trial_activity.pca,trial_activity_shuffle.pca,pca_components, N_SHUFFLINGS)\n",
    "    distance_cca_time, z_scored_cca_time = compute_representational_distance(trial_activity.cca_time,trial_activity_shuffle.cca_time,trial_activity.cca_time.shape[1], N_SHUFFLINGS)\n",
    "    distance_cca_allo, z_scored_cca_allo = compute_representational_distance(trial_activity.cca_allo,trial_activity_shuffle.cca_allo,trial_activity.cca_allo.shape[1], N_SHUFFLINGS)\n",
    "    distance_cca_ego, z_scored_cca_ego = compute_representational_distance(trial_activity.cca_ego,trial_activity_shuffle.cca_ego,trial_activity.cca_ego.shape[1], N_SHUFFLINGS)\n",
    "    distance_lda, z_scored_cca_lda = compute_representational_distance(trial_activity.lda,trial_activity_shuffle.lda,trial_activity.lda.shape[1], N_SHUFFLINGS)\n",
    "\n",
    "    distance = namedtuple('distance', ['neural','pca','cca_time','cca_allo','cca_ego','lda'])\n",
    "    return distance(z_scored_neural, z_scored_pca, z_scored_cca_time, z_scored_cca_allo, z_scored_cca_ego, z_scored_cca_lda)\n",
    "\n"
   ]
  },
  {
   "cell_type": "code",
   "execution_count": 19,
   "id": "4c9fcb76-033d-4507-8878-2e72eba6f515",
   "metadata": {},
   "outputs": [
    {
     "data": {
      "text/plain": [
       "[<matplotlib.lines.Line2D at 0x7fe02252c5b0>]"
      ]
     },
     "execution_count": 19,
     "metadata": {},
     "output_type": "execute_result"
    },
    {
     "data": {
      "image/png": "[encoded data removed]",
      "text/plain": [
       "<Figure size 432x288 with 1 Axes>"
      ]
     },
     "metadata": {
      "needs_background": "light"
     },
     "output_type": "display_data"
    }
   ],
   "source": [
    "plt.plot(distance_etho.neural)\n",
    "plt.plot(distance_etho.pca)\n",
    "plt.plot(distance_etho.cca_time)"
   ]
  },
  {
   "cell_type": "code",
   "execution_count": 19,
   "id": "9103ed52-2c91-4388-8a4e-60887b03a8ad",
   "metadata": {},
   "outputs": [],
   "source": []
  },
  {
   "cell_type": "markdown",
   "id": "d165eeb9-6944-4d69-b7ac-382108933e5e",
   "metadata": {},
   "source": [
    "##### "
   ]
  },
  {
   "cell_type": "code",
   "execution_count": 20,
   "id": "3813725a-1250-4d2c-bb2f-e47629a7e04a",
   "metadata": {},
   "outputs": [
    {
     "data": {
      "text/plain": [
       "20"
      ]
     },
     "execution_count": 20,
     "metadata": {},
     "output_type": "execute_result"
    }
   ],
   "source": [
    "pca_components"
   ]
  },
  {
   "cell_type": "code",
   "execution_count": 17,
   "id": "7a28932c-ff52-4763-a3ca-6cadea28570b",
   "metadata": {},
   "outputs": [
    {
     "name": "stdout",
     "output_type": "stream",
     "text": [
      "CREATEING VISITIS ACTIVITY MATRICES SHUFFLINGS\n"
     ]
    }
   ],
   "source": []
  },
  {
   "cell_type": "code",
   "execution_count": 20,
   "id": "d60e439c-2608-44dd-a165-33a13fba459c",
   "metadata": {},
   "outputs": [],
   "source": []
  },
  {
   "cell_type": "code",
   "execution_count": 21,
   "id": "69a422ac-052e-403d-b742-a20be4e7cd47",
   "metadata": {},
   "outputs": [
    {
     "name": "stdout",
     "output_type": "stream",
     "text": [
      "[[1.95939956 1.94699135 1.98911795 ... 1.74201068 1.87321813 1.86176723]\n",
      " [2.31295773 2.31173336 2.38813441 ... 2.30902708 2.48124284 2.47540232]\n",
      " [1.59436514 1.53040513 1.52196254 ... 1.76378585 1.70466153 1.67105339]\n",
      " ...\n",
      " [1.97801186 1.85414674 1.82911365 ... 1.95784054 1.98825433 2.00732658]\n",
      " [1.98599953 2.11182856 2.21215681 ... 1.70420523 1.72847174 1.67116494]\n",
      " [2.34433118 2.38180128 2.49013915 ... 2.16177615 2.1466189  2.14891163]]\n"
     ]
    }
   ],
   "source": []
  },
  {
   "cell_type": "code",
   "execution_count": 23,
   "id": "7a46e27d-91d6-4c9f-b096-603f6dd88e6b",
   "metadata": {},
   "outputs": [
    {
     "data": {
      "text/plain": [
       "[<matplotlib.lines.Line2D at 0x7fa788e476d0>]"
      ]
     },
     "execution_count": 23,
     "metadata": {},
     "output_type": "execute_result"
    },
    {
     "data": {
      "image/png": "[encoded data removed]",
      "text/plain": [
       "<Figure size 432x288 with 1 Axes>"
      ]
     },
     "metadata": {
      "needs_background": "light"
     },
     "output_type": "display_data"
    }
   ],
   "source": []
  },
  {
   "cell_type": "code",
   "execution_count": null,
   "id": "0e34c3bb-66e2-4101-a5ea-7d6eb26d3710",
   "metadata": {},
   "outputs": [],
   "source": []
  },
  {
   "cell_type": "code",
   "execution_count": null,
   "id": "6a5e9a56-ca92-46e2-9e5c-11979216dec8",
   "metadata": {},
   "outputs": [],
   "source": []
  },
  {
   "cell_type": "code",
   "execution_count": null,
   "id": "cfce4284-ee62-4cc0-941c-0c5b1264397f",
   "metadata": {},
   "outputs": [],
   "source": []
  }
 ],
 "metadata": {
  "kernelspec": {
   "display_name": "Python 3 (ipykernel)",
   "language": "python",
   "name": "python3"
  },
  "language_info": {
   "codemirror_mode": {
    "name": "ipython",
    "version": 3
   },
   "file_extension": ".py",
   "mimetype": "text/x-python",
   "name": "python",
   "nbconvert_exporter": "python",
   "pygments_lexer": "ipython3",
   "version": "3.9.7"
  }
 },
 "nbformat": 4,
 "nbformat_minor": 5
}
